{
 "cells": [
  {
   "cell_type": "markdown",
   "metadata": {},
   "source": [
    "#                                  Projet Insuffisance Cardiaque"
   ]
  },
  {
   "cell_type": "markdown",
   "metadata": {},
   "source": [
    "## Introduction\n",
    "\n",
    "Les maladies cardiavasculaires sont la première cause de mort dans le monde. On estime à hauteur de 17.9 millions de mort chaque année représentant 31% des morts mondiales. On note avec un taux 4/5 de ces morts sont dues à une attaque puis un arrêt cardiaque, et 1/3 de ces morts se passent prématuremment en dessous l'âge de 70 ans. Les insuffisances cardiaques sont fréquemment causées par des maladies cardiovasculaires.\n",
    "\n",
    "<u>Objectif de l'étude:</u> Nous allons étudié un dataset de 918 patients où nous allons essayé de prédire si un patient est malade ou nous grâce à la data-analyse et à des algorythmes de Machine Learning.  \n",
    "\n",
    "Le dataset étudié provient du site kaggle. Il répertorie 11 caractéristiques de 918 patients afin de prédire une maladie cardiaque probable.\n",
    "\n",
    "Les données des patients de ce dataset proviennent de différents pays.\n",
    "\n",
    "Cleveland: 303 patients   \n",
    "Hongrie: 294 patients Long  \n",
    "Beach VA (Californie): 200 patients   \n",
    "Stalog (Heart) Data Set: 270 patients  \n",
    "\n",
    "Total: 1190 patients  \n",
    "Lignes dupliquées: 272 patients  \n",
    "\n",
    "Dataset final: 918 patients"
   ]
  },
  {
   "cell_type": "code",
   "execution_count": 1,
   "metadata": {},
   "outputs": [],
   "source": [
    "#Importation des packages et fichiers utiles à l'étude\n",
    "import pandas as pd\n",
    "import numpy as np\n",
    "import statsmodels.api as sm\n",
    "import matplotlib.pyplot as plt\n",
    "import seaborn as sns\n",
    "from sklearn import preprocessing\n",
    "from sklearn.preprocessing import MinMaxScaler\n",
    "from scipy.stats import chi2_contingency\n",
    "import statsmodels.api \n",
    "from sklearn.model_selection import train_test_split\n",
    "from sklearn.neighbors import KNeighborsClassifier\n",
    "from sklearn.metrics import mean_squared_error\n",
    "from sklearn.linear_model import LogisticRegression, ElasticNetCV, LinearRegression \n",
    "from sklearn.tree import DecisionTreeClassifier\n",
    "from sklearn.ensemble import RandomForestClassifier, AdaBoostClassifier\n",
    "from sklearn.model_selection import GridSearchCV, cross_val_score\n",
    "from sklearn.model_selection import StratifiedKFold\n",
    "from sklearn.metrics import accuracy_score"
   ]
  },
  {
   "cell_type": "code",
   "execution_count": 2,
   "metadata": {},
   "outputs": [
    {
     "data": {
      "text/html": [
       "<div>\n",
       "<style scoped>\n",
       "    .dataframe tbody tr th:only-of-type {\n",
       "        vertical-align: middle;\n",
       "    }\n",
       "\n",
       "    .dataframe tbody tr th {\n",
       "        vertical-align: top;\n",
       "    }\n",
       "\n",
       "    .dataframe thead th {\n",
       "        text-align: right;\n",
       "    }\n",
       "</style>\n",
       "<table border=\"1\" class=\"dataframe\">\n",
       "  <thead>\n",
       "    <tr style=\"text-align: right;\">\n",
       "      <th></th>\n",
       "      <th>Age</th>\n",
       "      <th>Sex</th>\n",
       "      <th>ChestPainType</th>\n",
       "      <th>RestingBP</th>\n",
       "      <th>Cholesterol</th>\n",
       "      <th>FastingBS</th>\n",
       "      <th>RestingECG</th>\n",
       "      <th>MaxHR</th>\n",
       "      <th>ExerciseAngina</th>\n",
       "      <th>Oldpeak</th>\n",
       "      <th>ST_Slope</th>\n",
       "      <th>HeartDisease</th>\n",
       "    </tr>\n",
       "  </thead>\n",
       "  <tbody>\n",
       "    <tr>\n",
       "      <th>0</th>\n",
       "      <td>40</td>\n",
       "      <td>M</td>\n",
       "      <td>ATA</td>\n",
       "      <td>140</td>\n",
       "      <td>289</td>\n",
       "      <td>0</td>\n",
       "      <td>Normal</td>\n",
       "      <td>172</td>\n",
       "      <td>N</td>\n",
       "      <td>0.0</td>\n",
       "      <td>Up</td>\n",
       "      <td>0</td>\n",
       "    </tr>\n",
       "    <tr>\n",
       "      <th>1</th>\n",
       "      <td>49</td>\n",
       "      <td>F</td>\n",
       "      <td>NAP</td>\n",
       "      <td>160</td>\n",
       "      <td>180</td>\n",
       "      <td>0</td>\n",
       "      <td>Normal</td>\n",
       "      <td>156</td>\n",
       "      <td>N</td>\n",
       "      <td>1.0</td>\n",
       "      <td>Flat</td>\n",
       "      <td>1</td>\n",
       "    </tr>\n",
       "    <tr>\n",
       "      <th>2</th>\n",
       "      <td>37</td>\n",
       "      <td>M</td>\n",
       "      <td>ATA</td>\n",
       "      <td>130</td>\n",
       "      <td>283</td>\n",
       "      <td>0</td>\n",
       "      <td>ST</td>\n",
       "      <td>98</td>\n",
       "      <td>N</td>\n",
       "      <td>0.0</td>\n",
       "      <td>Up</td>\n",
       "      <td>0</td>\n",
       "    </tr>\n",
       "    <tr>\n",
       "      <th>3</th>\n",
       "      <td>48</td>\n",
       "      <td>F</td>\n",
       "      <td>ASY</td>\n",
       "      <td>138</td>\n",
       "      <td>214</td>\n",
       "      <td>0</td>\n",
       "      <td>Normal</td>\n",
       "      <td>108</td>\n",
       "      <td>Y</td>\n",
       "      <td>1.5</td>\n",
       "      <td>Flat</td>\n",
       "      <td>1</td>\n",
       "    </tr>\n",
       "    <tr>\n",
       "      <th>4</th>\n",
       "      <td>54</td>\n",
       "      <td>M</td>\n",
       "      <td>NAP</td>\n",
       "      <td>150</td>\n",
       "      <td>195</td>\n",
       "      <td>0</td>\n",
       "      <td>Normal</td>\n",
       "      <td>122</td>\n",
       "      <td>N</td>\n",
       "      <td>0.0</td>\n",
       "      <td>Up</td>\n",
       "      <td>0</td>\n",
       "    </tr>\n",
       "    <tr>\n",
       "      <th>...</th>\n",
       "      <td>...</td>\n",
       "      <td>...</td>\n",
       "      <td>...</td>\n",
       "      <td>...</td>\n",
       "      <td>...</td>\n",
       "      <td>...</td>\n",
       "      <td>...</td>\n",
       "      <td>...</td>\n",
       "      <td>...</td>\n",
       "      <td>...</td>\n",
       "      <td>...</td>\n",
       "      <td>...</td>\n",
       "    </tr>\n",
       "    <tr>\n",
       "      <th>913</th>\n",
       "      <td>45</td>\n",
       "      <td>M</td>\n",
       "      <td>TA</td>\n",
       "      <td>110</td>\n",
       "      <td>264</td>\n",
       "      <td>0</td>\n",
       "      <td>Normal</td>\n",
       "      <td>132</td>\n",
       "      <td>N</td>\n",
       "      <td>1.2</td>\n",
       "      <td>Flat</td>\n",
       "      <td>1</td>\n",
       "    </tr>\n",
       "    <tr>\n",
       "      <th>914</th>\n",
       "      <td>68</td>\n",
       "      <td>M</td>\n",
       "      <td>ASY</td>\n",
       "      <td>144</td>\n",
       "      <td>193</td>\n",
       "      <td>1</td>\n",
       "      <td>Normal</td>\n",
       "      <td>141</td>\n",
       "      <td>N</td>\n",
       "      <td>3.4</td>\n",
       "      <td>Flat</td>\n",
       "      <td>1</td>\n",
       "    </tr>\n",
       "    <tr>\n",
       "      <th>915</th>\n",
       "      <td>57</td>\n",
       "      <td>M</td>\n",
       "      <td>ASY</td>\n",
       "      <td>130</td>\n",
       "      <td>131</td>\n",
       "      <td>0</td>\n",
       "      <td>Normal</td>\n",
       "      <td>115</td>\n",
       "      <td>Y</td>\n",
       "      <td>1.2</td>\n",
       "      <td>Flat</td>\n",
       "      <td>1</td>\n",
       "    </tr>\n",
       "    <tr>\n",
       "      <th>916</th>\n",
       "      <td>57</td>\n",
       "      <td>F</td>\n",
       "      <td>ATA</td>\n",
       "      <td>130</td>\n",
       "      <td>236</td>\n",
       "      <td>0</td>\n",
       "      <td>LVH</td>\n",
       "      <td>174</td>\n",
       "      <td>N</td>\n",
       "      <td>0.0</td>\n",
       "      <td>Flat</td>\n",
       "      <td>1</td>\n",
       "    </tr>\n",
       "    <tr>\n",
       "      <th>917</th>\n",
       "      <td>38</td>\n",
       "      <td>M</td>\n",
       "      <td>NAP</td>\n",
       "      <td>138</td>\n",
       "      <td>175</td>\n",
       "      <td>0</td>\n",
       "      <td>Normal</td>\n",
       "      <td>173</td>\n",
       "      <td>N</td>\n",
       "      <td>0.0</td>\n",
       "      <td>Up</td>\n",
       "      <td>0</td>\n",
       "    </tr>\n",
       "  </tbody>\n",
       "</table>\n",
       "<p>918 rows × 12 columns</p>\n",
       "</div>"
      ],
      "text/plain": [
       "     Age Sex ChestPainType  RestingBP  Cholesterol  FastingBS RestingECG  \\\n",
       "0     40   M           ATA        140          289          0     Normal   \n",
       "1     49   F           NAP        160          180          0     Normal   \n",
       "2     37   M           ATA        130          283          0         ST   \n",
       "3     48   F           ASY        138          214          0     Normal   \n",
       "4     54   M           NAP        150          195          0     Normal   \n",
       "..   ...  ..           ...        ...          ...        ...        ...   \n",
       "913   45   M            TA        110          264          0     Normal   \n",
       "914   68   M           ASY        144          193          1     Normal   \n",
       "915   57   M           ASY        130          131          0     Normal   \n",
       "916   57   F           ATA        130          236          0        LVH   \n",
       "917   38   M           NAP        138          175          0     Normal   \n",
       "\n",
       "     MaxHR ExerciseAngina  Oldpeak ST_Slope  HeartDisease  \n",
       "0      172              N      0.0       Up             0  \n",
       "1      156              N      1.0     Flat             1  \n",
       "2       98              N      0.0       Up             0  \n",
       "3      108              Y      1.5     Flat             1  \n",
       "4      122              N      0.0       Up             0  \n",
       "..     ...            ...      ...      ...           ...  \n",
       "913    132              N      1.2     Flat             1  \n",
       "914    141              N      3.4     Flat             1  \n",
       "915    115              Y      1.2     Flat             1  \n",
       "916    174              N      0.0     Flat             1  \n",
       "917    173              N      0.0       Up             0  \n",
       "\n",
       "[918 rows x 12 columns]"
      ]
     },
     "execution_count": 2,
     "metadata": {},
     "output_type": "execute_result"
    }
   ],
   "source": [
    "#Importation du dataset de l'étude\n",
    "df = pd.read_csv('heart.csv')\n",
    "df"
   ]
  },
  {
   "cell_type": "markdown",
   "metadata": {},
   "source": [
    "Ce dataset contient 918 lignes et répertorie 12 colonnes. 11 caractérisatiques et 1 variable cible qui permet de savoir s'il y a présence d'une maladie cardiaque chez un patient. \n",
    "\n",
    "**Description des caractéristiques**\n",
    "\n",
    "- Age: âge du patient  \n",
    "- Sex: sexe du patient  \n",
    "- ChestPainType: type de douleur thoracique (TA: Angine typique, ATA: Angyne atypique, NAP: Douleur Non-anginal, ASY: Asymptomatique) \n",
    "- RestingBP: tension arterielle au repos [mmHg]  \n",
    "- Cholesterol: serum cholesterol [mg/dl]  \n",
    "- FastingBS: taux de glycémie [1: si FastingBS > 120 mg/dl, 0: sinon]  \n",
    "- RestingECG: résultat de l'electrocardiogramme au repos [Normal: Normal, ST: onde ST-T pathologie (inversion(s) de l'onde T et/ou élévation ST ou depréssion de > 0.05 mV), LVH: montre la présence probable ou confirmée d'une hypertrophie ventriculaire par le critère de Estes]  \n",
    "- MaxHR: fréquence cardiaque maximale [valeur numérique comprise entre 60 et 202]  \n",
    "- ExcerciseAngina: Présence d'une angine de poitrine induite [Y: yes, N: No]  \n",
    "- Oldpeak:oldpeak = ST [Valeur numérique mesurée en dépression]  \n",
    "- ST_Slope = pente du segment ST [Up: Upsloping (ascendant), Flat: Flat (plat), Down: downslopping (desendant)]\n",
    "- HeartDisease: classe de sortie, variable cible [1: maladie cardiaque, 0: Normal]  \n",
    "\n"
   ]
  },
  {
   "cell_type": "code",
   "execution_count": 3,
   "metadata": {},
   "outputs": [
    {
     "data": {
      "text/html": [
       "<div>\n",
       "<style scoped>\n",
       "    .dataframe tbody tr th:only-of-type {\n",
       "        vertical-align: middle;\n",
       "    }\n",
       "\n",
       "    .dataframe tbody tr th {\n",
       "        vertical-align: top;\n",
       "    }\n",
       "\n",
       "    .dataframe thead th {\n",
       "        text-align: right;\n",
       "    }\n",
       "</style>\n",
       "<table border=\"1\" class=\"dataframe\">\n",
       "  <thead>\n",
       "    <tr style=\"text-align: right;\">\n",
       "      <th></th>\n",
       "      <th>Age</th>\n",
       "      <th>RestingBP</th>\n",
       "      <th>Cholesterol</th>\n",
       "      <th>FastingBS</th>\n",
       "      <th>MaxHR</th>\n",
       "      <th>Oldpeak</th>\n",
       "      <th>HeartDisease</th>\n",
       "    </tr>\n",
       "  </thead>\n",
       "  <tbody>\n",
       "    <tr>\n",
       "      <th>count</th>\n",
       "      <td>918.000000</td>\n",
       "      <td>918.000000</td>\n",
       "      <td>918.000000</td>\n",
       "      <td>918.000000</td>\n",
       "      <td>918.000000</td>\n",
       "      <td>918.000000</td>\n",
       "      <td>918.000000</td>\n",
       "    </tr>\n",
       "    <tr>\n",
       "      <th>mean</th>\n",
       "      <td>53.510893</td>\n",
       "      <td>132.396514</td>\n",
       "      <td>198.799564</td>\n",
       "      <td>0.233115</td>\n",
       "      <td>136.809368</td>\n",
       "      <td>0.887364</td>\n",
       "      <td>0.553377</td>\n",
       "    </tr>\n",
       "    <tr>\n",
       "      <th>std</th>\n",
       "      <td>9.432617</td>\n",
       "      <td>18.514154</td>\n",
       "      <td>109.384145</td>\n",
       "      <td>0.423046</td>\n",
       "      <td>25.460334</td>\n",
       "      <td>1.066570</td>\n",
       "      <td>0.497414</td>\n",
       "    </tr>\n",
       "    <tr>\n",
       "      <th>min</th>\n",
       "      <td>28.000000</td>\n",
       "      <td>0.000000</td>\n",
       "      <td>0.000000</td>\n",
       "      <td>0.000000</td>\n",
       "      <td>60.000000</td>\n",
       "      <td>-2.600000</td>\n",
       "      <td>0.000000</td>\n",
       "    </tr>\n",
       "    <tr>\n",
       "      <th>25%</th>\n",
       "      <td>47.000000</td>\n",
       "      <td>120.000000</td>\n",
       "      <td>173.250000</td>\n",
       "      <td>0.000000</td>\n",
       "      <td>120.000000</td>\n",
       "      <td>0.000000</td>\n",
       "      <td>0.000000</td>\n",
       "    </tr>\n",
       "    <tr>\n",
       "      <th>50%</th>\n",
       "      <td>54.000000</td>\n",
       "      <td>130.000000</td>\n",
       "      <td>223.000000</td>\n",
       "      <td>0.000000</td>\n",
       "      <td>138.000000</td>\n",
       "      <td>0.600000</td>\n",
       "      <td>1.000000</td>\n",
       "    </tr>\n",
       "    <tr>\n",
       "      <th>75%</th>\n",
       "      <td>60.000000</td>\n",
       "      <td>140.000000</td>\n",
       "      <td>267.000000</td>\n",
       "      <td>0.000000</td>\n",
       "      <td>156.000000</td>\n",
       "      <td>1.500000</td>\n",
       "      <td>1.000000</td>\n",
       "    </tr>\n",
       "    <tr>\n",
       "      <th>max</th>\n",
       "      <td>77.000000</td>\n",
       "      <td>200.000000</td>\n",
       "      <td>603.000000</td>\n",
       "      <td>1.000000</td>\n",
       "      <td>202.000000</td>\n",
       "      <td>6.200000</td>\n",
       "      <td>1.000000</td>\n",
       "    </tr>\n",
       "  </tbody>\n",
       "</table>\n",
       "</div>"
      ],
      "text/plain": [
       "              Age   RestingBP  Cholesterol   FastingBS       MaxHR  \\\n",
       "count  918.000000  918.000000   918.000000  918.000000  918.000000   \n",
       "mean    53.510893  132.396514   198.799564    0.233115  136.809368   \n",
       "std      9.432617   18.514154   109.384145    0.423046   25.460334   \n",
       "min     28.000000    0.000000     0.000000    0.000000   60.000000   \n",
       "25%     47.000000  120.000000   173.250000    0.000000  120.000000   \n",
       "50%     54.000000  130.000000   223.000000    0.000000  138.000000   \n",
       "75%     60.000000  140.000000   267.000000    0.000000  156.000000   \n",
       "max     77.000000  200.000000   603.000000    1.000000  202.000000   \n",
       "\n",
       "          Oldpeak  HeartDisease  \n",
       "count  918.000000    918.000000  \n",
       "mean     0.887364      0.553377  \n",
       "std      1.066570      0.497414  \n",
       "min     -2.600000      0.000000  \n",
       "25%      0.000000      0.000000  \n",
       "50%      0.600000      1.000000  \n",
       "75%      1.500000      1.000000  \n",
       "max      6.200000      1.000000  "
      ]
     },
     "execution_count": 3,
     "metadata": {},
     "output_type": "execute_result"
    }
   ],
   "source": [
    "#Description du dataset\n",
    "df.describe()"
   ]
  },
  {
   "cell_type": "code",
   "execution_count": 4,
   "metadata": {},
   "outputs": [
    {
     "name": "stdout",
     "output_type": "stream",
     "text": [
      "<class 'pandas.core.frame.DataFrame'>\n",
      "RangeIndex: 918 entries, 0 to 917\n",
      "Data columns (total 12 columns):\n",
      " #   Column          Non-Null Count  Dtype  \n",
      "---  ------          --------------  -----  \n",
      " 0   Age             918 non-null    int64  \n",
      " 1   Sex             918 non-null    object \n",
      " 2   ChestPainType   918 non-null    object \n",
      " 3   RestingBP       918 non-null    int64  \n",
      " 4   Cholesterol     918 non-null    int64  \n",
      " 5   FastingBS       918 non-null    int64  \n",
      " 6   RestingECG      918 non-null    object \n",
      " 7   MaxHR           918 non-null    int64  \n",
      " 8   ExerciseAngina  918 non-null    object \n",
      " 9   Oldpeak         918 non-null    float64\n",
      " 10  ST_Slope        918 non-null    object \n",
      " 11  HeartDisease    918 non-null    int64  \n",
      "dtypes: float64(1), int64(6), object(5)\n",
      "memory usage: 86.2+ KB\n"
     ]
    }
   ],
   "source": [
    "#Informations sur le dataset\n",
    "df.info()"
   ]
  },
  {
   "cell_type": "code",
   "execution_count": 5,
   "metadata": {},
   "outputs": [
    {
     "data": {
      "text/plain": [
       "Age               0\n",
       "Sex               0\n",
       "ChestPainType     0\n",
       "RestingBP         0\n",
       "Cholesterol       0\n",
       "FastingBS         0\n",
       "RestingECG        0\n",
       "MaxHR             0\n",
       "ExerciseAngina    0\n",
       "Oldpeak           0\n",
       "ST_Slope          0\n",
       "HeartDisease      0\n",
       "dtype: int64"
      ]
     },
     "execution_count": 5,
     "metadata": {},
     "output_type": "execute_result"
    }
   ],
   "source": [
    "#Calcul des valeurs manquentes du dataset\n",
    "df.isnull().sum()"
   ]
  },
  {
   "cell_type": "markdown",
   "metadata": {},
   "source": [
    "On constate 2 types de valeurs présent dans nos valeurs caractéristiques: 7 colonnes à valeurs numériques et 4 à valeurs catégorielles. Le tableau ne présente par ailleurs aucune valeur manquante."
   ]
  },
  {
   "cell_type": "markdown",
   "metadata": {},
   "source": [
    "## Exploration du dataset\n",
    "\n",
    "### Impact de l'age et du sexe\n",
    "\n",
    "Nous allons maintenant explorer le dataset à travers les différentes données que l'on possède. Dans un premier temps, on s'interesse à l'importance de l'âge et du sexe.  \n",
    "Pour les données catégorielles, on choisira une représentation en histogramme (ou diagramme en barre) pour faciliter la comparaison entre les populations qui possèdent ou non un certain critère en fonction du fait qu'elles soient malades ou non."
   ]
  },
  {
   "cell_type": "code",
   "execution_count": 6,
   "metadata": {},
   "outputs": [
    {
     "data": {
      "text/plain": [
       "M    725\n",
       "F    193\n",
       "Name: Sex, dtype: int64"
      ]
     },
     "execution_count": 6,
     "metadata": {},
     "output_type": "execute_result"
    },
    {
     "data": {
      "image/png": "[encoded data removed]",
      "text/plain": [
       "<Figure size 288x288 with 1 Axes>"
      ]
     },
     "metadata": {
      "needs_background": "light"
     },
     "output_type": "display_data"
    }
   ],
   "source": [
    "#Création de la palette de couleurs pour le projet \n",
    "pa = ['royalblue','coral']\n",
    "\n",
    "#Histogramme du nombre de femmes et d'hommes dans l'étude\n",
    "plt.figure(figsize = (4,4))\n",
    "sns.countplot(x='Sex', hue='HeartDisease', palette = pa, data=df);\n",
    "plt.title('Répartition du nombre de malades selon le sexe du patient');\n",
    "df.Sex.value_counts()"
   ]
  },
  {
   "cell_type": "markdown",
   "metadata": {},
   "source": [
    "Il y a dans notre étude 725 hommes et 193 femmes représentant une proportion de 79% d'hommes pour 21% de femmes environ. L'étude est déséquilibrée sur le plan de la représentation du genre des patients. De plus, les femmes développent beaucoup moins de maladies cardiaques que les hommes. Il sera interessant de prendre en compte ce facteur par la suite. L'âge est aussi un facteur important et il est essentiel de savoir la répartition par tranche d'âge."
   ]
  },
  {
   "cell_type": "code",
   "execution_count": 7,
   "metadata": {},
   "outputs": [
    {
     "data": {
      "image/png": "[encoded data removed]",
      "text/plain": [
       "<Figure size 432x288 with 1 Axes>"
      ]
     },
     "metadata": {
      "needs_background": "light"
     },
     "output_type": "display_data"
    }
   ],
   "source": [
    "#Création de tranches d'âge avec un intervalle de 10 ans\n",
    "bins = [28,40,50,60,70,77];\n",
    "\n",
    "#Histogramme de la répartition des patients selon les traches d'âge\n",
    "plt.hist(df.Age, bins = bins, color = 'royalblue');\n",
    "plt.xlabel('Age');\n",
    "plt.ylabel('Nombre de patients');\n",
    "plt.title('Représentation du nombre de patients selon leur tranche d age');"
   ]
  },
  {
   "cell_type": "code",
   "execution_count": 8,
   "metadata": {},
   "outputs": [],
   "source": [
    "#Création d'une colonne à partir de quantiles qui va servir à répartir les patients en 4 catégories égales\n",
    "df['Cat_Age'] = pd.qcut(df.Age, q = [0,0.25,0.5,0.75,1])"
   ]
  },
  {
   "cell_type": "code",
   "execution_count": 9,
   "metadata": {},
   "outputs": [
    {
     "data": {
      "text/html": [
       "<div>\n",
       "<style scoped>\n",
       "    .dataframe tbody tr th:only-of-type {\n",
       "        vertical-align: middle;\n",
       "    }\n",
       "\n",
       "    .dataframe tbody tr th {\n",
       "        vertical-align: top;\n",
       "    }\n",
       "\n",
       "    .dataframe thead th {\n",
       "        text-align: right;\n",
       "    }\n",
       "</style>\n",
       "<table border=\"1\" class=\"dataframe\">\n",
       "  <thead>\n",
       "    <tr style=\"text-align: right;\">\n",
       "      <th></th>\n",
       "      <th>Age</th>\n",
       "      <th>Sex</th>\n",
       "      <th>ChestPainType</th>\n",
       "      <th>RestingBP</th>\n",
       "      <th>Cholesterol</th>\n",
       "      <th>FastingBS</th>\n",
       "      <th>RestingECG</th>\n",
       "      <th>MaxHR</th>\n",
       "      <th>ExerciseAngina</th>\n",
       "      <th>Oldpeak</th>\n",
       "      <th>ST_Slope</th>\n",
       "      <th>HeartDisease</th>\n",
       "      <th>Cat_Age</th>\n",
       "    </tr>\n",
       "  </thead>\n",
       "  <tbody>\n",
       "    <tr>\n",
       "      <th>0</th>\n",
       "      <td>40</td>\n",
       "      <td>M</td>\n",
       "      <td>ATA</td>\n",
       "      <td>140</td>\n",
       "      <td>289</td>\n",
       "      <td>0</td>\n",
       "      <td>Normal</td>\n",
       "      <td>172</td>\n",
       "      <td>N</td>\n",
       "      <td>0.0</td>\n",
       "      <td>Up</td>\n",
       "      <td>0</td>\n",
       "      <td>(27.999, 47.0]</td>\n",
       "    </tr>\n",
       "    <tr>\n",
       "      <th>1</th>\n",
       "      <td>49</td>\n",
       "      <td>F</td>\n",
       "      <td>NAP</td>\n",
       "      <td>160</td>\n",
       "      <td>180</td>\n",
       "      <td>0</td>\n",
       "      <td>Normal</td>\n",
       "      <td>156</td>\n",
       "      <td>N</td>\n",
       "      <td>1.0</td>\n",
       "      <td>Flat</td>\n",
       "      <td>1</td>\n",
       "      <td>(47.0, 54.0]</td>\n",
       "    </tr>\n",
       "    <tr>\n",
       "      <th>2</th>\n",
       "      <td>37</td>\n",
       "      <td>M</td>\n",
       "      <td>ATA</td>\n",
       "      <td>130</td>\n",
       "      <td>283</td>\n",
       "      <td>0</td>\n",
       "      <td>ST</td>\n",
       "      <td>98</td>\n",
       "      <td>N</td>\n",
       "      <td>0.0</td>\n",
       "      <td>Up</td>\n",
       "      <td>0</td>\n",
       "      <td>(27.999, 47.0]</td>\n",
       "    </tr>\n",
       "    <tr>\n",
       "      <th>3</th>\n",
       "      <td>48</td>\n",
       "      <td>F</td>\n",
       "      <td>ASY</td>\n",
       "      <td>138</td>\n",
       "      <td>214</td>\n",
       "      <td>0</td>\n",
       "      <td>Normal</td>\n",
       "      <td>108</td>\n",
       "      <td>Y</td>\n",
       "      <td>1.5</td>\n",
       "      <td>Flat</td>\n",
       "      <td>1</td>\n",
       "      <td>(47.0, 54.0]</td>\n",
       "    </tr>\n",
       "    <tr>\n",
       "      <th>4</th>\n",
       "      <td>54</td>\n",
       "      <td>M</td>\n",
       "      <td>NAP</td>\n",
       "      <td>150</td>\n",
       "      <td>195</td>\n",
       "      <td>0</td>\n",
       "      <td>Normal</td>\n",
       "      <td>122</td>\n",
       "      <td>N</td>\n",
       "      <td>0.0</td>\n",
       "      <td>Up</td>\n",
       "      <td>0</td>\n",
       "      <td>(47.0, 54.0]</td>\n",
       "    </tr>\n",
       "    <tr>\n",
       "      <th>...</th>\n",
       "      <td>...</td>\n",
       "      <td>...</td>\n",
       "      <td>...</td>\n",
       "      <td>...</td>\n",
       "      <td>...</td>\n",
       "      <td>...</td>\n",
       "      <td>...</td>\n",
       "      <td>...</td>\n",
       "      <td>...</td>\n",
       "      <td>...</td>\n",
       "      <td>...</td>\n",
       "      <td>...</td>\n",
       "      <td>...</td>\n",
       "    </tr>\n",
       "    <tr>\n",
       "      <th>913</th>\n",
       "      <td>45</td>\n",
       "      <td>M</td>\n",
       "      <td>TA</td>\n",
       "      <td>110</td>\n",
       "      <td>264</td>\n",
       "      <td>0</td>\n",
       "      <td>Normal</td>\n",
       "      <td>132</td>\n",
       "      <td>N</td>\n",
       "      <td>1.2</td>\n",
       "      <td>Flat</td>\n",
       "      <td>1</td>\n",
       "      <td>(27.999, 47.0]</td>\n",
       "    </tr>\n",
       "    <tr>\n",
       "      <th>914</th>\n",
       "      <td>68</td>\n",
       "      <td>M</td>\n",
       "      <td>ASY</td>\n",
       "      <td>144</td>\n",
       "      <td>193</td>\n",
       "      <td>1</td>\n",
       "      <td>Normal</td>\n",
       "      <td>141</td>\n",
       "      <td>N</td>\n",
       "      <td>3.4</td>\n",
       "      <td>Flat</td>\n",
       "      <td>1</td>\n",
       "      <td>(60.0, 77.0]</td>\n",
       "    </tr>\n",
       "    <tr>\n",
       "      <th>915</th>\n",
       "      <td>57</td>\n",
       "      <td>M</td>\n",
       "      <td>ASY</td>\n",
       "      <td>130</td>\n",
       "      <td>131</td>\n",
       "      <td>0</td>\n",
       "      <td>Normal</td>\n",
       "      <td>115</td>\n",
       "      <td>Y</td>\n",
       "      <td>1.2</td>\n",
       "      <td>Flat</td>\n",
       "      <td>1</td>\n",
       "      <td>(54.0, 60.0]</td>\n",
       "    </tr>\n",
       "    <tr>\n",
       "      <th>916</th>\n",
       "      <td>57</td>\n",
       "      <td>F</td>\n",
       "      <td>ATA</td>\n",
       "      <td>130</td>\n",
       "      <td>236</td>\n",
       "      <td>0</td>\n",
       "      <td>LVH</td>\n",
       "      <td>174</td>\n",
       "      <td>N</td>\n",
       "      <td>0.0</td>\n",
       "      <td>Flat</td>\n",
       "      <td>1</td>\n",
       "      <td>(54.0, 60.0]</td>\n",
       "    </tr>\n",
       "    <tr>\n",
       "      <th>917</th>\n",
       "      <td>38</td>\n",
       "      <td>M</td>\n",
       "      <td>NAP</td>\n",
       "      <td>138</td>\n",
       "      <td>175</td>\n",
       "      <td>0</td>\n",
       "      <td>Normal</td>\n",
       "      <td>173</td>\n",
       "      <td>N</td>\n",
       "      <td>0.0</td>\n",
       "      <td>Up</td>\n",
       "      <td>0</td>\n",
       "      <td>(27.999, 47.0]</td>\n",
       "    </tr>\n",
       "  </tbody>\n",
       "</table>\n",
       "<p>918 rows × 13 columns</p>\n",
       "</div>"
      ],
      "text/plain": [
       "     Age Sex ChestPainType  RestingBP  Cholesterol  FastingBS RestingECG  \\\n",
       "0     40   M           ATA        140          289          0     Normal   \n",
       "1     49   F           NAP        160          180          0     Normal   \n",
       "2     37   M           ATA        130          283          0         ST   \n",
       "3     48   F           ASY        138          214          0     Normal   \n",
       "4     54   M           NAP        150          195          0     Normal   \n",
       "..   ...  ..           ...        ...          ...        ...        ...   \n",
       "913   45   M            TA        110          264          0     Normal   \n",
       "914   68   M           ASY        144          193          1     Normal   \n",
       "915   57   M           ASY        130          131          0     Normal   \n",
       "916   57   F           ATA        130          236          0        LVH   \n",
       "917   38   M           NAP        138          175          0     Normal   \n",
       "\n",
       "     MaxHR ExerciseAngina  Oldpeak ST_Slope  HeartDisease         Cat_Age  \n",
       "0      172              N      0.0       Up             0  (27.999, 47.0]  \n",
       "1      156              N      1.0     Flat             1    (47.0, 54.0]  \n",
       "2       98              N      0.0       Up             0  (27.999, 47.0]  \n",
       "3      108              Y      1.5     Flat             1    (47.0, 54.0]  \n",
       "4      122              N      0.0       Up             0    (47.0, 54.0]  \n",
       "..     ...            ...      ...      ...           ...             ...  \n",
       "913    132              N      1.2     Flat             1  (27.999, 47.0]  \n",
       "914    141              N      3.4     Flat             1    (60.0, 77.0]  \n",
       "915    115              Y      1.2     Flat             1    (54.0, 60.0]  \n",
       "916    174              N      0.0     Flat             1    (54.0, 60.0]  \n",
       "917    173              N      0.0       Up             0  (27.999, 47.0]  \n",
       "\n",
       "[918 rows x 13 columns]"
      ]
     },
     "execution_count": 9,
     "metadata": {},
     "output_type": "execute_result"
    }
   ],
   "source": [
    "df"
   ]
  },
  {
   "cell_type": "code",
   "execution_count": 10,
   "metadata": {},
   "outputs": [
    {
     "data": {
      "text/plain": [
       "(27.999, 47.0]    239\n",
       "(47.0, 54.0]      232\n",
       "(54.0, 60.0]      226\n",
       "(60.0, 77.0]      221\n",
       "Name: Cat_Age, dtype: int64"
      ]
     },
     "execution_count": 10,
     "metadata": {},
     "output_type": "execute_result"
    }
   ],
   "source": [
    "df.Cat_Age.value_counts()"
   ]
  },
  {
   "cell_type": "markdown",
   "metadata": {},
   "source": [
    "On observe une certaine répartition des patients selon leur age avec une population majoritaire entre 50 et 60 ans. L'âge sera donc un critère majeur de l'étude. On choisira alors de créer une nouvelle colonne 'Cat_Age' qui catégorise les patients en 4 classes différentes selon leur age. Un nombre de quantiles égale à 4 permet alors de séparer les patients dans des classes équiréparties. "
   ]
  },
  {
   "cell_type": "markdown",
   "metadata": {},
   "source": [
    "Maintenant que l'on possède les quantiles liés à l'âge, on va créer une nouvelle colonne \"Class_Age\" qui va permettre de classer les personnes selon leur age."
   ]
  },
  {
   "cell_type": "code",
   "execution_count": 11,
   "metadata": {},
   "outputs": [],
   "source": [
    "#Création d'une nouvelle colonne Class_Age\n",
    "df.loc[df.Age>27.999,'Class_Age']='1'\n",
    "df.loc[df.Age>47,'Class_Age']='2'\n",
    "df.loc[df.Age>54,'Class_Age']='3'\n",
    "df.loc[df.Age>60,'Class_Age']='4'\n",
    "\n",
    "#Suppression de la colonne cat_Age\n",
    "df = df.drop('Cat_Age', 1)"
   ]
  },
  {
   "cell_type": "code",
   "execution_count": 12,
   "metadata": {},
   "outputs": [],
   "source": [
    "df = df[['Age','Class_Age','Sex','ChestPainType','RestingBP','Cholesterol','FastingBS','RestingECG','MaxHR','ExerciseAngina','Oldpeak','ST_Slope','HeartDisease']]"
   ]
  },
  {
   "cell_type": "code",
   "execution_count": 13,
   "metadata": {},
   "outputs": [
    {
     "data": {
      "text/html": [
       "<div>\n",
       "<style scoped>\n",
       "    .dataframe tbody tr th:only-of-type {\n",
       "        vertical-align: middle;\n",
       "    }\n",
       "\n",
       "    .dataframe tbody tr th {\n",
       "        vertical-align: top;\n",
       "    }\n",
       "\n",
       "    .dataframe thead th {\n",
       "        text-align: right;\n",
       "    }\n",
       "</style>\n",
       "<table border=\"1\" class=\"dataframe\">\n",
       "  <thead>\n",
       "    <tr style=\"text-align: right;\">\n",
       "      <th></th>\n",
       "      <th>Age</th>\n",
       "      <th>Class_Age</th>\n",
       "      <th>Sex</th>\n",
       "      <th>ChestPainType</th>\n",
       "      <th>RestingBP</th>\n",
       "      <th>Cholesterol</th>\n",
       "      <th>FastingBS</th>\n",
       "      <th>RestingECG</th>\n",
       "      <th>MaxHR</th>\n",
       "      <th>ExerciseAngina</th>\n",
       "      <th>Oldpeak</th>\n",
       "      <th>ST_Slope</th>\n",
       "      <th>HeartDisease</th>\n",
       "    </tr>\n",
       "  </thead>\n",
       "  <tbody>\n",
       "    <tr>\n",
       "      <th>0</th>\n",
       "      <td>40</td>\n",
       "      <td>1</td>\n",
       "      <td>M</td>\n",
       "      <td>ATA</td>\n",
       "      <td>140</td>\n",
       "      <td>289</td>\n",
       "      <td>0</td>\n",
       "      <td>Normal</td>\n",
       "      <td>172</td>\n",
       "      <td>N</td>\n",
       "      <td>0.0</td>\n",
       "      <td>Up</td>\n",
       "      <td>0</td>\n",
       "    </tr>\n",
       "    <tr>\n",
       "      <th>1</th>\n",
       "      <td>49</td>\n",
       "      <td>2</td>\n",
       "      <td>F</td>\n",
       "      <td>NAP</td>\n",
       "      <td>160</td>\n",
       "      <td>180</td>\n",
       "      <td>0</td>\n",
       "      <td>Normal</td>\n",
       "      <td>156</td>\n",
       "      <td>N</td>\n",
       "      <td>1.0</td>\n",
       "      <td>Flat</td>\n",
       "      <td>1</td>\n",
       "    </tr>\n",
       "    <tr>\n",
       "      <th>2</th>\n",
       "      <td>37</td>\n",
       "      <td>1</td>\n",
       "      <td>M</td>\n",
       "      <td>ATA</td>\n",
       "      <td>130</td>\n",
       "      <td>283</td>\n",
       "      <td>0</td>\n",
       "      <td>ST</td>\n",
       "      <td>98</td>\n",
       "      <td>N</td>\n",
       "      <td>0.0</td>\n",
       "      <td>Up</td>\n",
       "      <td>0</td>\n",
       "    </tr>\n",
       "    <tr>\n",
       "      <th>3</th>\n",
       "      <td>48</td>\n",
       "      <td>2</td>\n",
       "      <td>F</td>\n",
       "      <td>ASY</td>\n",
       "      <td>138</td>\n",
       "      <td>214</td>\n",
       "      <td>0</td>\n",
       "      <td>Normal</td>\n",
       "      <td>108</td>\n",
       "      <td>Y</td>\n",
       "      <td>1.5</td>\n",
       "      <td>Flat</td>\n",
       "      <td>1</td>\n",
       "    </tr>\n",
       "    <tr>\n",
       "      <th>4</th>\n",
       "      <td>54</td>\n",
       "      <td>2</td>\n",
       "      <td>M</td>\n",
       "      <td>NAP</td>\n",
       "      <td>150</td>\n",
       "      <td>195</td>\n",
       "      <td>0</td>\n",
       "      <td>Normal</td>\n",
       "      <td>122</td>\n",
       "      <td>N</td>\n",
       "      <td>0.0</td>\n",
       "      <td>Up</td>\n",
       "      <td>0</td>\n",
       "    </tr>\n",
       "    <tr>\n",
       "      <th>...</th>\n",
       "      <td>...</td>\n",
       "      <td>...</td>\n",
       "      <td>...</td>\n",
       "      <td>...</td>\n",
       "      <td>...</td>\n",
       "      <td>...</td>\n",
       "      <td>...</td>\n",
       "      <td>...</td>\n",
       "      <td>...</td>\n",
       "      <td>...</td>\n",
       "      <td>...</td>\n",
       "      <td>...</td>\n",
       "      <td>...</td>\n",
       "    </tr>\n",
       "    <tr>\n",
       "      <th>913</th>\n",
       "      <td>45</td>\n",
       "      <td>1</td>\n",
       "      <td>M</td>\n",
       "      <td>TA</td>\n",
       "      <td>110</td>\n",
       "      <td>264</td>\n",
       "      <td>0</td>\n",
       "      <td>Normal</td>\n",
       "      <td>132</td>\n",
       "      <td>N</td>\n",
       "      <td>1.2</td>\n",
       "      <td>Flat</td>\n",
       "      <td>1</td>\n",
       "    </tr>\n",
       "    <tr>\n",
       "      <th>914</th>\n",
       "      <td>68</td>\n",
       "      <td>4</td>\n",
       "      <td>M</td>\n",
       "      <td>ASY</td>\n",
       "      <td>144</td>\n",
       "      <td>193</td>\n",
       "      <td>1</td>\n",
       "      <td>Normal</td>\n",
       "      <td>141</td>\n",
       "      <td>N</td>\n",
       "      <td>3.4</td>\n",
       "      <td>Flat</td>\n",
       "      <td>1</td>\n",
       "    </tr>\n",
       "    <tr>\n",
       "      <th>915</th>\n",
       "      <td>57</td>\n",
       "      <td>3</td>\n",
       "      <td>M</td>\n",
       "      <td>ASY</td>\n",
       "      <td>130</td>\n",
       "      <td>131</td>\n",
       "      <td>0</td>\n",
       "      <td>Normal</td>\n",
       "      <td>115</td>\n",
       "      <td>Y</td>\n",
       "      <td>1.2</td>\n",
       "      <td>Flat</td>\n",
       "      <td>1</td>\n",
       "    </tr>\n",
       "    <tr>\n",
       "      <th>916</th>\n",
       "      <td>57</td>\n",
       "      <td>3</td>\n",
       "      <td>F</td>\n",
       "      <td>ATA</td>\n",
       "      <td>130</td>\n",
       "      <td>236</td>\n",
       "      <td>0</td>\n",
       "      <td>LVH</td>\n",
       "      <td>174</td>\n",
       "      <td>N</td>\n",
       "      <td>0.0</td>\n",
       "      <td>Flat</td>\n",
       "      <td>1</td>\n",
       "    </tr>\n",
       "    <tr>\n",
       "      <th>917</th>\n",
       "      <td>38</td>\n",
       "      <td>1</td>\n",
       "      <td>M</td>\n",
       "      <td>NAP</td>\n",
       "      <td>138</td>\n",
       "      <td>175</td>\n",
       "      <td>0</td>\n",
       "      <td>Normal</td>\n",
       "      <td>173</td>\n",
       "      <td>N</td>\n",
       "      <td>0.0</td>\n",
       "      <td>Up</td>\n",
       "      <td>0</td>\n",
       "    </tr>\n",
       "  </tbody>\n",
       "</table>\n",
       "<p>918 rows × 13 columns</p>\n",
       "</div>"
      ],
      "text/plain": [
       "     Age Class_Age Sex ChestPainType  RestingBP  Cholesterol  FastingBS  \\\n",
       "0     40         1   M           ATA        140          289          0   \n",
       "1     49         2   F           NAP        160          180          0   \n",
       "2     37         1   M           ATA        130          283          0   \n",
       "3     48         2   F           ASY        138          214          0   \n",
       "4     54         2   M           NAP        150          195          0   \n",
       "..   ...       ...  ..           ...        ...          ...        ...   \n",
       "913   45         1   M            TA        110          264          0   \n",
       "914   68         4   M           ASY        144          193          1   \n",
       "915   57         3   M           ASY        130          131          0   \n",
       "916   57         3   F           ATA        130          236          0   \n",
       "917   38         1   M           NAP        138          175          0   \n",
       "\n",
       "    RestingECG  MaxHR ExerciseAngina  Oldpeak ST_Slope  HeartDisease  \n",
       "0       Normal    172              N      0.0       Up             0  \n",
       "1       Normal    156              N      1.0     Flat             1  \n",
       "2           ST     98              N      0.0       Up             0  \n",
       "3       Normal    108              Y      1.5     Flat             1  \n",
       "4       Normal    122              N      0.0       Up             0  \n",
       "..         ...    ...            ...      ...      ...           ...  \n",
       "913     Normal    132              N      1.2     Flat             1  \n",
       "914     Normal    141              N      3.4     Flat             1  \n",
       "915     Normal    115              Y      1.2     Flat             1  \n",
       "916        LVH    174              N      0.0     Flat             1  \n",
       "917     Normal    173              N      0.0       Up             0  \n",
       "\n",
       "[918 rows x 13 columns]"
      ]
     },
     "execution_count": 13,
     "metadata": {},
     "output_type": "execute_result"
    }
   ],
   "source": [
    "df"
   ]
  },
  {
   "cell_type": "code",
   "execution_count": 14,
   "metadata": {},
   "outputs": [
    {
     "data": {
      "image/png": "[encoded data removed]",
      "text/plain": [
       "<Figure size 432x288 with 1 Axes>"
      ]
     },
     "metadata": {
      "needs_background": "light"
     },
     "output_type": "display_data"
    }
   ],
   "source": [
    "#Histogramme des personnes malades ou non selon leur tranche d'âge\n",
    "sns.countplot(x='Class_Age', hue='HeartDisease', palette=pa, data=df);\n",
    "plt.title('Représentation du nombre de personnes ayant une maladie cardiaque selon leur classe d âge');"
   ]
  },
  {
   "cell_type": "markdown",
   "metadata": {},
   "source": [
    "On constate 2 groupes de population dans notre étude. Les personnes de moins de 54 ans font moins de maladies cardiaques même si pour la classe 2 cela reste très proche. On peut donc affirmer que l'âge possède un impact important sur la présence d'une maladie cardiaque mais que même pour une classe jeune le nombre est quand même à prendre en considération."
   ]
  },
  {
   "cell_type": "markdown",
   "metadata": {},
   "source": [
    "### Etude des données médicales\n",
    "\n",
    "On dispose d'un panel de données médicales pour chaque patient. Le but de l'étude n'est pas de comprendre d'un point de vue scientifique les termes du dataset mais d'interpréter de façon indépendante leur importance sur la probable présence d'une maladie cardiaque."
   ]
  },
  {
   "cell_type": "code",
   "execution_count": 15,
   "metadata": {},
   "outputs": [
    {
     "data": {
      "image/png": "[encoded data removed]",
      "text/plain": [
       "<Figure size 906.375x432 with 8 Axes>"
      ]
     },
     "metadata": {
      "needs_background": "light"
     },
     "output_type": "display_data"
    }
   ],
   "source": [
    "#Histogramme de la répartition du type de douleur thoracique par classe d'âge et par sexe\n",
    "g = sns.FacetGrid(df, col=\"Class_Age\", row=\"Sex\");\n",
    "g.map_dataframe(sns.countplot, \"ChestPainType\", hue=\"HeartDisease\", palette=pa);\n",
    "g.add_legend();"
   ]
  },
  {
   "cell_type": "markdown",
   "metadata": {},
   "source": [
    "Pour les hommes, on constate un nombre important de malades selon une tranche d'âge en fonction d'une présence d'un certain type de douleur thoracique. Pour les personnes entre 54 et 60 ans, la présence d'une angine typique induit fortement la présence d'une maladie cardiaque. Au dela de 60 ans, les malades n'ont pas majoritairement pas de douleur thoracique et pourtant sont pathogènes.  \n",
    "Chez les femmes jeunes, c'est la présence d'une angyne atypique qui caractérise la présence d'une maladie au coeur. Pour les catégories suivantes, c'est le critère d'une angyne typique qui est déterminant. Au dela de 60 ans, point commun avec les hommes, le cas asymptomatique est synonyme de maladie.  "
   ]
  },
  {
   "cell_type": "code",
   "execution_count": 16,
   "metadata": {},
   "outputs": [
    {
     "data": {
      "image/png": "[encoded data removed]",
      "text/plain": [
       "<Figure size 906.375x432 with 8 Axes>"
      ]
     },
     "metadata": {
      "needs_background": "light"
     },
     "output_type": "display_data"
    }
   ],
   "source": [
    "#Histogramme de la répartition des résultats de l'electrocardiagramme des patients au repos par classe d'âge et par sexe\n",
    "g = sns.FacetGrid(df, col=\"Class_Age\", row=\"Sex\");\n",
    "g.map_dataframe(sns.countplot, \"RestingECG\", hue=\"HeartDisease\", palette=pa);\n",
    "g.add_legend();"
   ]
  },
  {
   "cell_type": "markdown",
   "metadata": {},
   "source": [
    "Pour les hommes en-dessous de 54 ans, une anomalie au niveau de l'onde ST est caractériqtique d'une maladie cardiaque majoritairement. Au delà de 54 ans, il y a beaucoup de gens malades peu importe les résultas sur l'électrocardiogramme.   \n",
    "Pour les femmes, on retrouve la même caractéristique en-dessous de 54 ans même si le nombre de personnes saines reste majoritaire. De même, au-delà de 54 ans, le nombre de malades est plus présent peu importe le critère. "
   ]
  },
  {
   "cell_type": "code",
   "execution_count": 17,
   "metadata": {},
   "outputs": [
    {
     "data": {
      "image/png": "[encoded data removed]",
      "text/plain": [
       "<Figure size 906.375x432 with 8 Axes>"
      ]
     },
     "metadata": {
      "needs_background": "light"
     },
     "output_type": "display_data"
    }
   ],
   "source": [
    "#Histogramme du type de pente du Segment ST par Classe d'âge et par Sex\n",
    "g = sns.FacetGrid(df, col=\"Class_Age\", row=\"Sex\");\n",
    "g.map_dataframe(sns.countplot, \"ST_Slope\", hue=\"HeartDisease\", palette=pa);\n",
    "g.add_legend();"
   ]
  },
  {
   "cell_type": "markdown",
   "metadata": {},
   "source": [
    "Pour les hommes au-dessus de 54 ans, on constate que le segment ST plat induit une maladie cardiaque alors que pour les autres catégories c'est un segment ST sus-décalé qui induit une maladie.  \n",
    "Pour les femmes jeunes de la catégorie 1 c'est aussi le sus-décalage qui montre la présence d'une maladie même si la majorité n'est pas pathogène. Dans les autres catégories d'âge,c'est un segment plat montre la présence d'une maladie. \n",
    "On en conclue que même si le segment ST est plat, il peut y avoir une présence de maladie cardiaque surement à cause d'un autre facteur pathogène."
   ]
  },
  {
   "cell_type": "code",
   "execution_count": 18,
   "metadata": {},
   "outputs": [
    {
     "data": {
      "image/png": "[encoded data removed]",
      "text/plain": [
       "<Figure size 906.375x432 with 8 Axes>"
      ]
     },
     "metadata": {
      "needs_background": "light"
     },
     "output_type": "display_data"
    }
   ],
   "source": [
    "#Histogramme du taux de glycemie entre 2 catégaries (120 mg/dl ou non) par classe d'âge et par sexe\n",
    "g = sns.FacetGrid(df, col=\"Class_Age\", row=\"Sex\");\n",
    "g.map_dataframe(sns.countplot, \"FastingBS\", hue=\"HeartDisease\", palette=pa);\n",
    "g.add_legend();"
   ]
  },
  {
   "cell_type": "markdown",
   "metadata": {},
   "source": [
    "Pour les hommes, un taux élevé en glycémie induit fortement une maladie cardiaque peu importe la catégorie d'âge. On remarque cependant un nombre important de malades même avec un taux inférieur à 120 mg/dl. Seul la classe 1 démontre qu'un taux faible en glycémie induit majoritairement l'absence de maladie.  \n",
    "Pour les femmes, il y a majoritairement des coeurs non-malade peu importe la classe d'âge quand le taux de glycémie est bas. Par contre quand il est important, tout comme pour les hommes, les sujets sont plus à risque d'être malade sauf  pour la casse 2 où il y a une légère différence."
   ]
  },
  {
   "cell_type": "code",
   "execution_count": 19,
   "metadata": {},
   "outputs": [
    {
     "data": {
      "image/png": "[encoded data removed]",
      "text/plain": [
       "<Figure size 906.375x432 with 8 Axes>"
      ]
     },
     "metadata": {
      "needs_background": "light"
     },
     "output_type": "display_data"
    }
   ],
   "source": [
    "#Histogramme de la présence d'angine induite par classe d'âge et par sexe\n",
    "g = sns.FacetGrid(df, col=\"Class_Age\", row=\"Sex\");\n",
    "g.map_dataframe(sns.countplot, \"ExerciseAngina\", hue=\"HeartDisease\", palette=pa);\n",
    "g.add_legend();"
   ]
  },
  {
   "cell_type": "markdown",
   "metadata": {},
   "source": [
    "Pour les hommes, on remarque encore une fois qu'au-delà de 54 ans, il y a une forte probalité que la personne soit malade. Par contre, ce nombre est d'autant plus important s'il y a présence d'une angine induite. Pour les autres classes, la présence d'une angine induite implique moins la présence une maladie cardiaque. Par contre, beaucoup de jeunes hommes adultes n'ont pas besoin de développer une angine induite pour être malade.  \n",
    "Pour les femmes, la remarque est différente car jusqu'à 60 ans la présence d'une angine induite n'engendre pas forcément une maladie cardiaque. Cependant, il existe des sujets malades sans forcément avoir ce critère."
   ]
  },
  {
   "cell_type": "markdown",
   "metadata": {},
   "source": [
    "On en conclut que selon les tranches d'âge et le sexe du patient, les observations sont différentes. Au-delà de 54 ans, beaucoup d'hommes développent des problèmes cardiques même si le critère en question est normal. Cela veut signifier que c'est un autre critère à partir de cet  âge qui rentre en jeu et qu'un sujet masculin est plus sensible à développer une maladie à partir de cet âge.  \n",
    "Les femmes développent moins de maladies cardiaques peu importe leur classe d'âge mais restent néanmoins sensibles à certains facteurs quand ils sont anormaux. "
   ]
  },
  {
   "cell_type": "markdown",
   "metadata": {},
   "source": [
    "Pour les données numériques concernant la tensions artérielles au repos (RestingBP), le niveau de cholesterol (cholesterol) et le nombre de battements de coeur atteint (MaxHR), on va choisir un représentation en nuage de points afin de mieux comrendre visuellement la répartie de ce critères et s'il existe un lien avec la présence d'une maladie cardiaque. On fera encore une distinction par classe d'âge et par sexe."
   ]
  },
  {
   "cell_type": "code",
   "execution_count": 20,
   "metadata": {},
   "outputs": [],
   "source": [
    "#Création d'un index \n",
    "df['index2'] = range(0,len(df.Sex))"
   ]
  },
  {
   "cell_type": "code",
   "execution_count": 21,
   "metadata": {},
   "outputs": [
    {
     "data": {
      "image/png": "[encoded data removed]",
      "text/plain": [
       "<Figure size 967.25x432 with 8 Axes>"
      ]
     },
     "metadata": {
      "needs_background": "light"
     },
     "output_type": "display_data"
    }
   ],
   "source": [
    "#Nuages de points du niveau de cholesterol par patients par classe d'âge et par sexe \n",
    "g = sns.FacetGrid(df, col=\"Class_Age\", row=\"Sex\")\n",
    "g.map_dataframe(sns.scatterplot, \"index2\", \"Cholesterol\", hue=\"HeartDisease\", palette=pa)\n",
    "g.add_legend();"
   ]
  },
  {
   "cell_type": "markdown",
   "metadata": {},
   "source": [
    "Le cholesterol est un corps gras indispensable pour le bon fonctionnement du corps humain. Le LDL est connu pour être le mauvais cholesterol car un taux important de celui-ci peut être un facteur important de risque cardiovasculaire. Le taux de cholesterol ne devrait pas excéder 200 mg/dl, voire 238 mg/dl. Par contre s'il dépasse 240 mg/dl, celà rique d'être dangeureux.  \n",
    "Pour les hommes, on constate que le niveau de cholesterol se situe entre 180 et 300 mm/dl majoritairement. On constate alors que plus la classe d'âge est importante, plus le sujet est malade.  \n",
    "Pour les femmes, ce taux ne montre rien de particulié car elles restent majoritairement saine peu importe la classe d'âge."
   ]
  },
  {
   "cell_type": "code",
   "execution_count": 22,
   "metadata": {},
   "outputs": [
    {
     "data": {
      "image/png": "[encoded data removed]",
      "text/plain": [
       "<Figure size 967.25x432 with 8 Axes>"
      ]
     },
     "metadata": {
      "needs_background": "light"
     },
     "output_type": "display_data"
    }
   ],
   "source": [
    "#Nuages de points du niveau de la tension arterielle au repos par patients par classe d'âge et par sexe \n",
    "g = sns.FacetGrid(df, col=\"Class_Age\", row=\"Sex\")\n",
    "g.map_dataframe(sns.scatterplot, \"index2\", \"RestingBP\", hue=\"HeartDisease\", palette=pa)\n",
    "g.add_legend();"
   ]
  },
  {
   "cell_type": "markdown",
   "metadata": {},
   "source": [
    "La tension artérielle est exprimée en millimètre de mercure (mmHg). Ici, nous disposons de la tension artérielle systolique qui est la mesure maximale excercée dans la phase de contraction du ventricule gauche. En-dessous de 100 mmHg, la valeur est faible. Entre 100 mmHg et 140 mmHg, on est dans la norme. Au-delà, on est en hypertersion.  \n",
    "Pour les hommes, on constate que la tension est artérielle est supérieure à 100 mmHg comme attendu et avec certains cas extrêmes en hypertension de degré 3 (>=180 mmHg). On remarque que plus la classe d'âge augmente plus les sujets ont une maladie cardiaque.  \n",
    "Pour les femmes, on constate également que plus l'âge augmente, plus une tension artérielle élevée induit une maladie cardiaque.\n"
   ]
  },
  {
   "cell_type": "code",
   "execution_count": 23,
   "metadata": {},
   "outputs": [
    {
     "data": {
      "image/png": "[encoded data removed]",
      "text/plain": [
       "<Figure size 967.25x432 with 8 Axes>"
      ]
     },
     "metadata": {
      "needs_background": "light"
     },
     "output_type": "display_data"
    }
   ],
   "source": [
    "#Nuages de points du nombre de battemments de coeur atteint par patients par classe d'âge et par sexe \n",
    "g = sns.FacetGrid(df, col=\"Class_Age\", row=\"Sex\")\n",
    "g.map_dataframe(sns.scatterplot, \"index2\", \"MaxHR\", hue=\"HeartDisease\", palette=pa)\n",
    "g.add_legend();"
   ]
  },
  {
   "cell_type": "markdown",
   "metadata": {},
   "source": [
    "La fréquence cardiaque normale chez un adulte est comprise entre 60 et 100 battements par minute. Il est plus élevé chez les femmes que chez les hommes.La fréquence maximale se calcule pour une femme de 226 - âge et pour un homme de 220 - âge. Par exemple, pour une femme de 30 ans, la fréquence maximale est de 196 battements par minute et pour un homme, elle est de 190 battements par minute.  \n",
    "Pour les hommes, on constate bien qu'avec l'âge, les tensions s'abaissent en majorité et qu'il existe plus de personnes malades en fonction de l'âge.  \n",
    "Pour les femmes, on constate également la même chose même si elles développent moins de maladie cardiaque."
   ]
  },
  {
   "cell_type": "code",
   "execution_count": 24,
   "metadata": {},
   "outputs": [
    {
     "data": {
      "image/png": "[encoded data removed]",
      "text/plain": [
       "<Figure size 967.25x432 with 8 Axes>"
      ]
     },
     "metadata": {
      "needs_background": "light"
     },
     "output_type": "display_data"
    }
   ],
   "source": [
    "#Nuages de points sur les valeurs du oldpeak par patients par classe d'âge et par sexe \n",
    "g = sns.FacetGrid(df, col=\"Class_Age\", row=\"Sex\")\n",
    "g.map_dataframe(sns.scatterplot, \"index2\", \"Oldpeak\", hue=\"HeartDisease\", palette=pa)\n",
    "g.add_legend();\n",
    "\n",
    "#Suppression de la colonne index2\n",
    "df = df.drop('index2', 1)"
   ]
  },
  {
   "cell_type": "markdown",
   "metadata": {},
   "source": [
    "Le oldpeak est la pente du segment ST.  \n",
    "Pour les hommes, on constate que pour un âge inférieur à 60 ans, quand l'inclinaison est nulle, les sujets ont moins de probabilité d'avoir de maladie cardiaque. Par contre si ce facteur est supérieur à 0, peu importe l'âge, il y a de forte présence de maladie cardique chez ses patients.  \n",
    "Pour les femmes, on constate qu'inférieure à 54 ans, cette valeur est majoritairement nulle et implique un coeur sain. Par contre avec l'âge, ceux qui ont une valeur non-nulle possède une maladie cardiaque."
   ]
  },
  {
   "cell_type": "markdown",
   "metadata": {},
   "source": [
    "Pour cette partie, on en conlut que l'âge joue un rôle majeure sur l'importance de la prise en compte de certains critères et donc sur le fait que les sujets soient malades ou non.  \n",
    "Les hommes ont plus de faciliter à développer une maladie cardiaque comme nous l'avons constaté au début de l'étude. L'âge est par contre un facteur déterminant pour les deux genres car plus celui-ci augmente plus la probabilité de développer une maladie cardique augmente aussi."
   ]
  },
  {
   "cell_type": "markdown",
   "metadata": {},
   "source": [
    "### Etude de corrélation\n",
    "\n",
    "Nous allons maintenant étudier la corrélation de chacun de ces critères en fonction du fait qu'elles possèdent une maladie cardiaque ou non. Nous disposons de variables catégorielles et de variables continues. Pour étudier la corrélation entre les variables catégorielles, on utilisera le test de Cramer. Pour les variables continues et la variable \"Heartdisease\", on utilisera l'analyse de la variannce ANOVA."
   ]
  },
  {
   "cell_type": "markdown",
   "metadata": {},
   "source": [
    "#### Etude de corrélation des variables catégorielles avec la variable HeartDisease\n",
    "On va construire un nouveau dataset avec les variables catégorielles uniquement."
   ]
  },
  {
   "cell_type": "code",
   "execution_count": 25,
   "metadata": {},
   "outputs": [],
   "source": [
    "#Construction du dataset les variables catégorielles du dataset\n",
    "df_cat = df[['Class_Age','Sex','ChestPainType','FastingBS','RestingECG','ExerciseAngina','ST_Slope','HeartDisease']]"
   ]
  },
  {
   "cell_type": "code",
   "execution_count": 26,
   "metadata": {},
   "outputs": [],
   "source": [
    "#On change le type de la variable Heartdisease\n",
    "df_cat=df_cat.astype({\"HeartDisease\":object,\"FastingBS\":object})"
   ]
  },
  {
   "cell_type": "code",
   "execution_count": 27,
   "metadata": {},
   "outputs": [
    {
     "name": "stdout",
     "output_type": "stream",
     "text": [
      "<class 'pandas.core.frame.DataFrame'>\n",
      "RangeIndex: 918 entries, 0 to 917\n",
      "Data columns (total 8 columns):\n",
      " #   Column          Non-Null Count  Dtype \n",
      "---  ------          --------------  ----- \n",
      " 0   Class_Age       918 non-null    object\n",
      " 1   Sex             918 non-null    object\n",
      " 2   ChestPainType   918 non-null    object\n",
      " 3   FastingBS       918 non-null    object\n",
      " 4   RestingECG      918 non-null    object\n",
      " 5   ExerciseAngina  918 non-null    object\n",
      " 6   ST_Slope        918 non-null    object\n",
      " 7   HeartDisease    918 non-null    object\n",
      "dtypes: object(8)\n",
      "memory usage: 57.5+ KB\n"
     ]
    }
   ],
   "source": [
    "#Vérification des types des variables du nouveau dataset\n",
    "df_cat.info()"
   ]
  },
  {
   "cell_type": "code",
   "execution_count": 29,
   "metadata": {},
   "outputs": [],
   "source": [
    "#Création des tableaux de confusion nécessaire pour effectuer les tests de khi-2\n",
    "dt1 = pd.crosstab(df_cat.Class_Age, df_cat.HeartDisease)\n",
    "dt2 = pd.crosstab(df_cat.Sex, df_cat.HeartDisease)\n",
    "dt3 = pd.crosstab(df_cat.ChestPainType, df_cat.HeartDisease)\n",
    "dt4 = pd.crosstab(df_cat.FastingBS, df_cat.HeartDisease)\n",
    "dt5 = pd.crosstab(df_cat.RestingECG, df_cat.HeartDisease)\n",
    "dt6 = pd.crosstab(df_cat.ExerciseAngina, df_cat.HeartDisease)\n",
    "dt7 = pd.crosstab(df_cat.ST_Slope, df_cat.HeartDisease)\n",
    "\n",
    "#Test de corrélation entre la variable Class_Age et la variable HeartDisease\n",
    "resultats_test = chi2_contingency(dt1)\n",
    "statistique = resultats_test[0]\n",
    "p_valeur = resultats_test[1]\n",
    "degre_liberte = resultats_test[2]\n",
    "\n",
    "def V_Cramer (table,N):\n",
    "    stat_chi2 = chi2_contingency(dt1)[0]\n",
    "    k = dt1.shape[0]\n",
    "    r = dt1.shape[1]\n",
    "    phi = max(0,(stat_chi2/N)-((k-1)*(r-1)/(N-1)))\n",
    "    k_corr = k - (np.square(k-1)/(N-1))\n",
    "    r_corr = r - (np.square(r-1)/(N-1))\n",
    "    return np.sqrt(phi/min(k_corr - 1,r_corr - 1))\n",
    "\n",
    "df1 = pd.DataFrame((statistique, p_valeur, degre_liberte, V_Cramer(dt1,df_cat.shape[0])), \n",
    "             index =['statistique', 'p_valeur','degre_liberte', 'V_Cramer'], columns = ['Test Class_Age Correlation'])\n",
    "\n",
    "\n",
    "#Test de corrélation entre la variable Sex et la variable HeartDisease\n",
    "resultats_test = chi2_contingency(dt2)\n",
    "statistique = resultats_test[0]\n",
    "p_valeur = resultats_test[1]\n",
    "degre_liberte = resultats_test[2]\n",
    "\n",
    "def V_Cramer (table,N):\n",
    "    stat_chi2 = chi2_contingency(dt2)[0]\n",
    "    k = dt2.shape[0]\n",
    "    r = dt2.shape[1]\n",
    "    phi = max(0,(stat_chi2/N)-((k-1)*(r-1)/(N-1)))\n",
    "    k_corr = k - (np.square(k-1)/(N-1))\n",
    "    r_corr = r - (np.square(r-1)/(N-1))\n",
    "    return np.sqrt(phi/min(k_corr - 1,r_corr - 1))\n",
    "\n",
    "df2 = pd.DataFrame((statistique, p_valeur, degre_liberte, V_Cramer(dt2,df_cat.shape[0])), \n",
    "             index =['statistique', 'p_valeur','degre_liberte', 'V_Cramer'], columns = ['Test Sex Correlation'])\n",
    "\n",
    "\n",
    "#Test de corrélation entre la variable ChestPainType et la variable HeartDisease\n",
    "resultats_test = chi2_contingency(dt3)\n",
    "statistique = resultats_test[0]\n",
    "p_valeur = resultats_test[1]\n",
    "degre_liberte = resultats_test[2]\n",
    "\n",
    "def V_Cramer (table,N):\n",
    "    stat_chi2 = chi2_contingency(dt3)[0]\n",
    "    k = dt3.shape[0]\n",
    "    r = dt3.shape[1]\n",
    "    phi = max(0,(stat_chi2/N)-((k-1)*(r-1)/(N-1)))\n",
    "    k_corr = k - (np.square(k-1)/(N-1))\n",
    "    r_corr = r - (np.square(r-1)/(N-1))\n",
    "    return np.sqrt(phi/min(k_corr - 1,r_corr - 1))\n",
    "\n",
    "df3 = pd.DataFrame((statistique, p_valeur, degre_liberte, V_Cramer(dt3,df_cat.shape[0])), \n",
    "             index =['statistique', 'p_valeur','degre_liberte', 'V_Cramer'], columns = ['Test ChestPainType Correlation'])\n",
    "\n",
    "#Test de corrélation entre la variable FastingBS et la variable HeartDisease\n",
    "resultats_test = chi2_contingency(dt4)\n",
    "statistique = resultats_test[0]\n",
    "p_valeur = resultats_test[1]\n",
    "degre_liberte = resultats_test[2]\n",
    "\n",
    "def V_Cramer (table,N):\n",
    "    stat_chi2 = chi2_contingency(dt4)[0]\n",
    "    k = dt4.shape[0]\n",
    "    r = dt4.shape[1]\n",
    "    phi = max(0,(stat_chi2/N)-((k-1)*(r-1)/(N-1)))\n",
    "    k_corr = k - (np.square(k-1)/(N-1))\n",
    "    r_corr = r - (np.square(r-1)/(N-1))\n",
    "    return np.sqrt(phi/min(k_corr - 1,r_corr - 1))\n",
    "\n",
    "df4 = pd.DataFrame((statistique, p_valeur, degre_liberte, V_Cramer(dt4,df_cat.shape[0])), \n",
    "             index =['statistique', 'p_valeur','degre_liberte', 'V_Cramer'], columns = ['Test FastingBS Correlation'])\n",
    "\n",
    "#Test de corrélation entre la variable RestingECG et la variable HeartDisease\n",
    "resultats_test = chi2_contingency(dt5)\n",
    "statistique = resultats_test[0]\n",
    "p_valeur = resultats_test[1]\n",
    "degre_liberte = resultats_test[2]\n",
    "\n",
    "def V_Cramer (table,N):\n",
    "    stat_chi2 = chi2_contingency(dt5)[0]\n",
    "    k = dt5.shape[0]\n",
    "    r = dt5.shape[1]\n",
    "    phi = max(0,(stat_chi2/N)-((k-1)*(r-1)/(N-1)))\n",
    "    k_corr = k - (np.square(k-1)/(N-1))\n",
    "    r_corr = r - (np.square(r-1)/(N-1))\n",
    "    return np.sqrt(phi/min(k_corr - 1,r_corr - 1))\n",
    "\n",
    "df5 = pd.DataFrame((statistique, p_valeur, degre_liberte, V_Cramer(dt4,df_cat.shape[0])), \n",
    "             index =['statistique', 'p_valeur','degre_liberte', 'V_Cramer'], columns = ['Test RestingECG Correlation'])\n",
    "\n",
    "#Test de corrélation entre la variable ExerciseAngina et la variable HeartDisease\n",
    "resultats_test = chi2_contingency(dt6)\n",
    "statistique = resultats_test[0]\n",
    "p_valeur = resultats_test[1]\n",
    "degre_liberte = resultats_test[2]\n",
    "\n",
    "def V_Cramer (table,N):\n",
    "    stat_chi2 = chi2_contingency(dt6)[0]\n",
    "    k = dt6.shape[0]\n",
    "    r = dt6.shape[1]\n",
    "    phi = max(0,(stat_chi2/N)-((k-1)*(r-1)/(N-1)))\n",
    "    k_corr = k - (np.square(k-1)/(N-1))\n",
    "    r_corr = r - (np.square(r-1)/(N-1))\n",
    "    return np.sqrt(phi/min(k_corr - 1,r_corr - 1))\n",
    "\n",
    "df6 = pd.DataFrame((statistique, p_valeur, degre_liberte, V_Cramer(dt6,df_cat.shape[0])), \n",
    "             index =['statistique', 'p_valeur','degre_liberte', 'V_Cramer'], columns = ['Test ExerciseAngina Correlation'])\n",
    "\n",
    "#Test de corrélation entre la variable ST_Slope et la variable HeartDisease\n",
    "resultats_test = chi2_contingency(dt7)\n",
    "statistique = resultats_test[0]\n",
    "p_valeur = resultats_test[1]\n",
    "degre_liberte = resultats_test[2]\n",
    "\n",
    "def V_Cramer (table,N):\n",
    "    stat_chi2 = chi2_contingency(dt7)[0]\n",
    "    k = dt7.shape[0]\n",
    "    r = dt7.shape[1]\n",
    "    phi = max(0,(stat_chi2/N)-((k-1)*(r-1)/(N-1)))\n",
    "    k_corr = k - (np.square(k-1)/(N-1))\n",
    "    r_corr = r - (np.square(r-1)/(N-1))\n",
    "    return np.sqrt(phi/min(k_corr - 1,r_corr - 1))\n",
    "\n",
    "df7 = pd.DataFrame((statistique, p_valeur, degre_liberte, V_Cramer(dt7,df_cat.shape[0])), \n",
    "             index =['statistique', 'p_valeur','degre_liberte', 'V_Cramer'], columns = ['Test ST_Slope Correlation'])\n",
    "\n"
   ]
  },
  {
   "cell_type": "code",
   "execution_count": 30,
   "metadata": {},
   "outputs": [
    {
     "data": {
      "text/html": [
       "<div>\n",
       "<style scoped>\n",
       "    .dataframe tbody tr th:only-of-type {\n",
       "        vertical-align: middle;\n",
       "    }\n",
       "\n",
       "    .dataframe tbody tr th {\n",
       "        vertical-align: top;\n",
       "    }\n",
       "\n",
       "    .dataframe thead th {\n",
       "        text-align: right;\n",
       "    }\n",
       "</style>\n",
       "<table border=\"1\" class=\"dataframe\">\n",
       "  <thead>\n",
       "    <tr style=\"text-align: right;\">\n",
       "      <th></th>\n",
       "      <th>Test Class_Age Correlation</th>\n",
       "      <th>Test Sex Correlation</th>\n",
       "      <th>Test ChestPainType Correlation</th>\n",
       "      <th>Test FastingBS Correlation</th>\n",
       "      <th>Test RestingECG Correlation</th>\n",
       "      <th>Test ExerciseAngina Correlation</th>\n",
       "      <th>Test ST_Slope Correlation</th>\n",
       "    </tr>\n",
       "  </thead>\n",
       "  <tbody>\n",
       "    <tr>\n",
       "      <th>statistique</th>\n",
       "      <td>8.104659e+01</td>\n",
       "      <td>8.414510e+01</td>\n",
       "      <td>2.680672e+02</td>\n",
       "      <td>6.432068e+01</td>\n",
       "      <td>10.931469</td>\n",
       "      <td>2.222594e+02</td>\n",
       "      <td>3.559184e+02</td>\n",
       "    </tr>\n",
       "    <tr>\n",
       "      <th>p_valeur</th>\n",
       "      <td>1.830321e-17</td>\n",
       "      <td>4.597617e-20</td>\n",
       "      <td>8.083728e-58</td>\n",
       "      <td>1.057302e-15</td>\n",
       "      <td>0.004229</td>\n",
       "      <td>2.907808e-50</td>\n",
       "      <td>5.167638e-78</td>\n",
       "    </tr>\n",
       "    <tr>\n",
       "      <th>degre_liberte</th>\n",
       "      <td>3.000000e+00</td>\n",
       "      <td>1.000000e+00</td>\n",
       "      <td>3.000000e+00</td>\n",
       "      <td>1.000000e+00</td>\n",
       "      <td>2.000000</td>\n",
       "      <td>1.000000e+00</td>\n",
       "      <td>2.000000e+00</td>\n",
       "    </tr>\n",
       "    <tr>\n",
       "      <th>V_Cramer</th>\n",
       "      <td>2.917316e-01</td>\n",
       "      <td>3.011141e-01</td>\n",
       "      <td>5.376392e-01</td>\n",
       "      <td>2.627754e-01</td>\n",
       "      <td>0.098679</td>\n",
       "      <td>4.912079e-01</td>\n",
       "      <td>6.212492e-01</td>\n",
       "    </tr>\n",
       "  </tbody>\n",
       "</table>\n",
       "</div>"
      ],
      "text/plain": [
       "               Test Class_Age Correlation  Test Sex Correlation  \\\n",
       "statistique                  8.104659e+01          8.414510e+01   \n",
       "p_valeur                     1.830321e-17          4.597617e-20   \n",
       "degre_liberte                3.000000e+00          1.000000e+00   \n",
       "V_Cramer                     2.917316e-01          3.011141e-01   \n",
       "\n",
       "               Test ChestPainType Correlation  Test FastingBS Correlation  \\\n",
       "statistique                      2.680672e+02                6.432068e+01   \n",
       "p_valeur                         8.083728e-58                1.057302e-15   \n",
       "degre_liberte                    3.000000e+00                1.000000e+00   \n",
       "V_Cramer                         5.376392e-01                2.627754e-01   \n",
       "\n",
       "               Test RestingECG Correlation  Test ExerciseAngina Correlation  \\\n",
       "statistique                      10.931469                     2.222594e+02   \n",
       "p_valeur                          0.004229                     2.907808e-50   \n",
       "degre_liberte                     2.000000                     1.000000e+00   \n",
       "V_Cramer                          0.098679                     4.912079e-01   \n",
       "\n",
       "               Test ST_Slope Correlation  \n",
       "statistique                 3.559184e+02  \n",
       "p_valeur                    5.167638e-78  \n",
       "degre_liberte               2.000000e+00  \n",
       "V_Cramer                    6.212492e-01  "
      ]
     },
     "execution_count": 30,
     "metadata": {},
     "output_type": "execute_result"
    }
   ],
   "source": [
    "#Tableau final des correlations\n",
    "pd.concat([df1, df2, df3, df4, df5, df6, df7], axis = 1)"
   ]
  },
  {
   "cell_type": "markdown",
   "metadata": {},
   "source": [
    "En posant l'Hypothèse nulle H0: \"La variable catégorielle concernée et la variable HeartDisease sont indépendantes\", on choisit également de prendre pour seuil de signification la valeur 5% pour décider du rejet ou non de cette hypothèse. Si les p-valeurs, calculées grâce à un test du khi-2, sont inférieurs à 5%, on rejette H0. On constate que toutes les p-valeurs sont netemment inférieures à 5%. De plus, on mesure également le V-Cramer qui se mesure à l'aide de la statistique du test, du degré de liberté et des dimensions de la table contingence. Il renvoie une valeur entre 0 et 1. Si la valeur est renvoyée est supérieure à 0.9 on peut qualifier la relation de très forte. Si la valeur est inférieure à 0.10 on peut qualifier la relation de faible. On peut constater que toutes les valeurs sont supérieures à 0.10 sauf pour la variable TestRestingECG. Le test V-Cramer permet alors de savoir quelles valeurs sont plus plus ou moins liées à la variable HeartDisease. Le test ST_Slope avec une valeur de 0.62 montre que c'est la valeur la plus liée par rapport aux autres. On en conclue qu'avec les p-valeurs obtenues, nous pouvons rejetter l'hypothèse nulle pour l'ensemble des tests. Les variables sont donc plus ou moins dépendantes de la variable HeartDisease. Ces critères montrent qu'en effet, ils ont une influence propre sur la présence d'une maladie cardiaque chez les patients. "
   ]
  },
  {
   "cell_type": "markdown",
   "metadata": {},
   "source": [
    "#### Etude de corrélation des variables continues avec la variable HeartDisease\n",
    "On va construire un nouveau dataset avec les variables numériques uniquement."
   ]
  },
  {
   "cell_type": "code",
   "execution_count": 31,
   "metadata": {},
   "outputs": [],
   "source": [
    "#Création du dataframe contenant les critères numériques\n",
    "df_num = df[[\"Age\",\"RestingBP\",\"Cholesterol\",\"MaxHR\",\"Oldpeak\",\"HeartDisease\"]]"
   ]
  },
  {
   "cell_type": "code",
   "execution_count": 32,
   "metadata": {},
   "outputs": [
    {
     "name": "stdout",
     "output_type": "stream",
     "text": [
      "<class 'pandas.core.frame.DataFrame'>\n",
      "RangeIndex: 918 entries, 0 to 917\n",
      "Data columns (total 6 columns):\n",
      " #   Column        Non-Null Count  Dtype  \n",
      "---  ------        --------------  -----  \n",
      " 0   Age           918 non-null    int64  \n",
      " 1   RestingBP     918 non-null    int64  \n",
      " 2   Cholesterol   918 non-null    int64  \n",
      " 3   MaxHR         918 non-null    int64  \n",
      " 4   Oldpeak       918 non-null    float64\n",
      " 5   HeartDisease  918 non-null    int64  \n",
      "dtypes: float64(1), int64(5)\n",
      "memory usage: 43.2 KB\n"
     ]
    }
   ],
   "source": [
    "#Vérification des types des variables du nouveau dataset\n",
    "df_num.info()"
   ]
  },
  {
   "cell_type": "code",
   "execution_count": 33,
   "metadata": {},
   "outputs": [
    {
     "data": {
      "text/html": [
       "<div>\n",
       "<style scoped>\n",
       "    .dataframe tbody tr th:only-of-type {\n",
       "        vertical-align: middle;\n",
       "    }\n",
       "\n",
       "    .dataframe tbody tr th {\n",
       "        vertical-align: top;\n",
       "    }\n",
       "\n",
       "    .dataframe thead th {\n",
       "        text-align: right;\n",
       "    }\n",
       "</style>\n",
       "<table border=\"1\" class=\"dataframe\">\n",
       "  <thead>\n",
       "    <tr style=\"text-align: right;\">\n",
       "      <th></th>\n",
       "      <th>df</th>\n",
       "      <th>sum_sq</th>\n",
       "      <th>mean_sq</th>\n",
       "      <th>F</th>\n",
       "      <th>PR(&gt;F)</th>\n",
       "    </tr>\n",
       "  </thead>\n",
       "  <tbody>\n",
       "    <tr>\n",
       "      <th>HeartDisease</th>\n",
       "      <td>1.0</td>\n",
       "      <td>6490.086756</td>\n",
       "      <td>6490.086756</td>\n",
       "      <td>79.160779</td>\n",
       "      <td>3.007953e-18</td>\n",
       "    </tr>\n",
       "    <tr>\n",
       "      <th>Residual</th>\n",
       "      <td>916.0</td>\n",
       "      <td>75099.304312</td>\n",
       "      <td>81.986140</td>\n",
       "      <td>NaN</td>\n",
       "      <td>NaN</td>\n",
       "    </tr>\n",
       "  </tbody>\n",
       "</table>\n",
       "</div>"
      ],
      "text/plain": [
       "                 df        sum_sq      mean_sq          F        PR(>F)\n",
       "HeartDisease    1.0   6490.086756  6490.086756  79.160779  3.007953e-18\n",
       "Residual      916.0  75099.304312    81.986140        NaN           NaN"
      ]
     },
     "execution_count": 33,
     "metadata": {},
     "output_type": "execute_result"
    }
   ],
   "source": [
    "#Test ANOVA entre la variable Age et HeartDisease\n",
    "result = statsmodels.formula.api.ols('Age ~ HeartDisease', data = df_num).fit()\n",
    "t1 = statsmodels.api.stats.anova_lm(result)\n",
    "t1"
   ]
  },
  {
   "cell_type": "code",
   "execution_count": 34,
   "metadata": {},
   "outputs": [
    {
     "data": {
      "text/html": [
       "<div>\n",
       "<style scoped>\n",
       "    .dataframe tbody tr th:only-of-type {\n",
       "        vertical-align: middle;\n",
       "    }\n",
       "\n",
       "    .dataframe tbody tr th {\n",
       "        vertical-align: top;\n",
       "    }\n",
       "\n",
       "    .dataframe thead th {\n",
       "        text-align: right;\n",
       "    }\n",
       "</style>\n",
       "<table border=\"1\" class=\"dataframe\">\n",
       "  <thead>\n",
       "    <tr style=\"text-align: right;\">\n",
       "      <th></th>\n",
       "      <th>df</th>\n",
       "      <th>sum_sq</th>\n",
       "      <th>mean_sq</th>\n",
       "      <th>F</th>\n",
       "      <th>PR(&gt;F)</th>\n",
       "    </tr>\n",
       "  </thead>\n",
       "  <tbody>\n",
       "    <tr>\n",
       "      <th>HeartDisease</th>\n",
       "      <td>1.0</td>\n",
       "      <td>3638.418644</td>\n",
       "      <td>3638.418644</td>\n",
       "      <td>10.727228</td>\n",
       "      <td>0.001095</td>\n",
       "    </tr>\n",
       "    <tr>\n",
       "      <th>Residual</th>\n",
       "      <td>916.0</td>\n",
       "      <td>310685.250202</td>\n",
       "      <td>339.176037</td>\n",
       "      <td>NaN</td>\n",
       "      <td>NaN</td>\n",
       "    </tr>\n",
       "  </tbody>\n",
       "</table>\n",
       "</div>"
      ],
      "text/plain": [
       "                 df         sum_sq      mean_sq          F    PR(>F)\n",
       "HeartDisease    1.0    3638.418644  3638.418644  10.727228  0.001095\n",
       "Residual      916.0  310685.250202   339.176037        NaN       NaN"
      ]
     },
     "execution_count": 34,
     "metadata": {},
     "output_type": "execute_result"
    }
   ],
   "source": [
    "#Test ANOVA entre la variable RestingBP et HeartDisease\n",
    "result = statsmodels.formula.api.ols('RestingBP ~ HeartDisease', data = df_num).fit()\n",
    "t1 = statsmodels.api.stats.anova_lm(result)\n",
    "t1"
   ]
  },
  {
   "cell_type": "code",
   "execution_count": 35,
   "metadata": {},
   "outputs": [
    {
     "data": {
      "text/html": [
       "<div>\n",
       "<style scoped>\n",
       "    .dataframe tbody tr th:only-of-type {\n",
       "        vertical-align: middle;\n",
       "    }\n",
       "\n",
       "    .dataframe tbody tr th {\n",
       "        vertical-align: top;\n",
       "    }\n",
       "\n",
       "    .dataframe thead th {\n",
       "        text-align: right;\n",
       "    }\n",
       "</style>\n",
       "<table border=\"1\" class=\"dataframe\">\n",
       "  <thead>\n",
       "    <tr style=\"text-align: right;\">\n",
       "      <th></th>\n",
       "      <th>df</th>\n",
       "      <th>sum_sq</th>\n",
       "      <th>mean_sq</th>\n",
       "      <th>F</th>\n",
       "      <th>PR(&gt;F)</th>\n",
       "    </tr>\n",
       "  </thead>\n",
       "  <tbody>\n",
       "    <tr>\n",
       "      <th>HeartDisease</th>\n",
       "      <td>1.0</td>\n",
       "      <td>5.943230e+05</td>\n",
       "      <td>594322.989040</td>\n",
       "      <td>52.459725</td>\n",
       "      <td>9.308309e-13</td>\n",
       "    </tr>\n",
       "    <tr>\n",
       "      <th>Residual</th>\n",
       "      <td>916.0</td>\n",
       "      <td>1.037748e+07</td>\n",
       "      <td>11329.128964</td>\n",
       "      <td>NaN</td>\n",
       "      <td>NaN</td>\n",
       "    </tr>\n",
       "  </tbody>\n",
       "</table>\n",
       "</div>"
      ],
      "text/plain": [
       "                 df        sum_sq        mean_sq          F        PR(>F)\n",
       "HeartDisease    1.0  5.943230e+05  594322.989040  52.459725  9.308309e-13\n",
       "Residual      916.0  1.037748e+07   11329.128964        NaN           NaN"
      ]
     },
     "execution_count": 35,
     "metadata": {},
     "output_type": "execute_result"
    }
   ],
   "source": [
    "#Test ANOVA entre la variable Cholesterol et HeartDisease\n",
    "result = statsmodels.formula.api.ols('Cholesterol ~ HeartDisease', data = df_num).fit()\n",
    "t1 = statsmodels.api.stats.anova_lm(result)\n",
    "t1"
   ]
  },
  {
   "cell_type": "code",
   "execution_count": 36,
   "metadata": {},
   "outputs": [
    {
     "data": {
      "text/html": [
       "<div>\n",
       "<style scoped>\n",
       "    .dataframe tbody tr th:only-of-type {\n",
       "        vertical-align: middle;\n",
       "    }\n",
       "\n",
       "    .dataframe tbody tr th {\n",
       "        vertical-align: top;\n",
       "    }\n",
       "\n",
       "    .dataframe thead th {\n",
       "        text-align: right;\n",
       "    }\n",
       "</style>\n",
       "<table border=\"1\" class=\"dataframe\">\n",
       "  <thead>\n",
       "    <tr style=\"text-align: right;\">\n",
       "      <th></th>\n",
       "      <th>df</th>\n",
       "      <th>sum_sq</th>\n",
       "      <th>mean_sq</th>\n",
       "      <th>F</th>\n",
       "      <th>PR(&gt;F)</th>\n",
       "    </tr>\n",
       "  </thead>\n",
       "  <tbody>\n",
       "    <tr>\n",
       "      <th>HeartDisease</th>\n",
       "      <td>1.0</td>\n",
       "      <td>95308.300476</td>\n",
       "      <td>95308.300476</td>\n",
       "      <td>174.913585</td>\n",
       "      <td>1.137786e-36</td>\n",
       "    </tr>\n",
       "    <tr>\n",
       "      <th>Residual</th>\n",
       "      <td>916.0</td>\n",
       "      <td>499117.338957</td>\n",
       "      <td>544.887925</td>\n",
       "      <td>NaN</td>\n",
       "      <td>NaN</td>\n",
       "    </tr>\n",
       "  </tbody>\n",
       "</table>\n",
       "</div>"
      ],
      "text/plain": [
       "                 df         sum_sq       mean_sq           F        PR(>F)\n",
       "HeartDisease    1.0   95308.300476  95308.300476  174.913585  1.137786e-36\n",
       "Residual      916.0  499117.338957    544.887925         NaN           NaN"
      ]
     },
     "execution_count": 36,
     "metadata": {},
     "output_type": "execute_result"
    }
   ],
   "source": [
    "#Test ANOVA entre la variable MaxHR et HeartDisease\n",
    "result = statsmodels.formula.api.ols('MaxHR ~ HeartDisease', data = df_num).fit()\n",
    "t1 = statsmodels.api.stats.anova_lm(result)\n",
    "t1"
   ]
  },
  {
   "cell_type": "code",
   "execution_count": 37,
   "metadata": {},
   "outputs": [
    {
     "data": {
      "text/html": [
       "<div>\n",
       "<style scoped>\n",
       "    .dataframe tbody tr th:only-of-type {\n",
       "        vertical-align: middle;\n",
       "    }\n",
       "\n",
       "    .dataframe tbody tr th {\n",
       "        vertical-align: top;\n",
       "    }\n",
       "\n",
       "    .dataframe thead th {\n",
       "        text-align: right;\n",
       "    }\n",
       "</style>\n",
       "<table border=\"1\" class=\"dataframe\">\n",
       "  <thead>\n",
       "    <tr style=\"text-align: right;\">\n",
       "      <th></th>\n",
       "      <th>df</th>\n",
       "      <th>sum_sq</th>\n",
       "      <th>mean_sq</th>\n",
       "      <th>F</th>\n",
       "      <th>PR(&gt;F)</th>\n",
       "    </tr>\n",
       "  </thead>\n",
       "  <tbody>\n",
       "    <tr>\n",
       "      <th>HeartDisease</th>\n",
       "      <td>1.0</td>\n",
       "      <td>170.217796</td>\n",
       "      <td>170.217796</td>\n",
       "      <td>178.61512</td>\n",
       "      <td>2.390772e-37</td>\n",
       "    </tr>\n",
       "    <tr>\n",
       "      <th>Residual</th>\n",
       "      <td>916.0</td>\n",
       "      <td>872.935624</td>\n",
       "      <td>0.952986</td>\n",
       "      <td>NaN</td>\n",
       "      <td>NaN</td>\n",
       "    </tr>\n",
       "  </tbody>\n",
       "</table>\n",
       "</div>"
      ],
      "text/plain": [
       "                 df      sum_sq     mean_sq          F        PR(>F)\n",
       "HeartDisease    1.0  170.217796  170.217796  178.61512  2.390772e-37\n",
       "Residual      916.0  872.935624    0.952986        NaN           NaN"
      ]
     },
     "execution_count": 37,
     "metadata": {},
     "output_type": "execute_result"
    }
   ],
   "source": [
    "#Test ANOVA entre la variable Oldpeak et HeartDisease\n",
    "result = statsmodels.formula.api.ols('Oldpeak ~ HeartDisease', data = df_num).fit()\n",
    "t1 = statsmodels.api.stats.anova_lm(result)\n",
    "t1"
   ]
  },
  {
   "cell_type": "markdown",
   "metadata": {},
   "source": [
    "Pour étudier, la corrélation entre ces variables, on a recourt cette fois à un test ANOVA pour chacune des variables continues. Il permet de comparer les moyenennes d'échantillon. L'objectif est de savoir l'influence d'une variable continue sur une variable catégorielle. De la même façon que précedemment, on pose l'Hypothèse H0:\"La variable catégorielle concernée et la variable HeartDisease sont indépendantes\". On prendra également comme seuil de signification 5%. Les résultats obtenus montrent que les valeurs PR(>F) de chaque variable, qui renseigne sur les p-valeurs du test, sont toutes largement inférieures à 5%. Nous pouvons donc rejeter l'hypothèse H0 et affirmer qu'il existe un lien entre ces variables continues et la variables HeartDisease."
   ]
  },
  {
   "cell_type": "markdown",
   "metadata": {},
   "source": [
    "Dans la suite de l'étude, nous allons démontrer s'il est possible de savoir si une personne a une maladie au coeur à partir de l'ensemble des données mis à disposition. On utilisera des algorithmes de Machine Learning pour prédire ces résultats. Les variables étant toutes plus ou moins corrélées à la variable HeartDisease, on conservera l'ensemble des données pour affiner au maximum les résultats."
   ]
  },
  {
   "cell_type": "markdown",
   "metadata": {},
   "source": [
    "## Machine Learning"
   ]
  },
  {
   "cell_type": "markdown",
   "metadata": {},
   "source": [
    "### Méthodes de classification"
   ]
  },
  {
   "cell_type": "markdown",
   "metadata": {},
   "source": [
    "Le machine learning est une technique de programmation informatique qui utilise des probabilités statistiques pour donner aux ordinateurs la capacité d’apprendre par eux-mêmes sans programmation explicite. Pour son objectif de base, le machine learning « apprend à apprendre » aux ordinateurs – et par la suite, à agir et réagir – comme le font les humains, en améliorant leur mode d’apprentissage et leurs connaissances de façon autonome sur la durée. L’objectif ultime serait que les ordinateurs agissent et réagissent sans être explicitement programmés pour ces actions et réactions. Le machine learning utilise des programmes de développement qui s’ajustent chaque fois qu’ils sont exposés à différents types de données en entrée.  \n",
    "Il existe 3 types de machine learning:\n",
    "- Machine learning avec supervision, la variable de sortie est une catégorie (méthode de classification) ou une valeur spécifique (méthode de régression)  \n",
    "- Machine learning sans supervision, on recherche soit à rassembler des données pour obtenir un résultat (méthode de clustering) ou à identifier certaines règles qui définissent des grands groupes de données (méthode d'association)\n",
    "- Machine learning par renforcement, un programme informatique interagit avec un environnement dynamique pour atteindre un but comme dans les jeux vidéos.  Le programme reçoit des récompenses à la fin de l'état \"terminal\" (méthode de Monte Carlo) ou à chaque étape (Machine learning par différence temporelle)  \n",
    "\n",
    "Dans notre cas, l'étude permet de savoir si un patient à une maladie cardiaque ou non. On fera donc une étude de machine learning avec supervision en étudiant différents algorithmes comme la méthode des k-plus proches voisins par exemple."
   ]
  },
  {
   "cell_type": "markdown",
   "metadata": {},
   "source": [
    "### Préparation du dataset aux méthodes de classification par supervision"
   ]
  },
  {
   "cell_type": "markdown",
   "metadata": {},
   "source": [
    "Le dataset contient des variables catégorielles qu'il va falloir convertir en données numériques pour que les algorithmes puissent utiliser les données. On utilise la methode des \"dummies\" qui consiste à créer une colonne séparée pour chacune des valeurs uniques des colonnes de catégories. Il y a donc création d'une nouvelle colonne par attribut de variable. On procède à ce que l'on appelle une dichotomisation des variables.  \n",
    "On fait ensuite une mise à l'échelle des données numériques. En effet, cela va permttre d'obtenir des données numériques à une échelle commune. On consatate qu'il faut mettre à l'échelle la colonne \"Oldpeak\" par rapport aux autres sinon la colonne \"Cholesterol\" aura plus de poids et d'influence par rapport à cette dernière sur les résultats de Machine Learning."
   ]
  },
  {
   "cell_type": "code",
   "execution_count": 38,
   "metadata": {},
   "outputs": [
    {
     "data": {
      "text/html": [
       "<div>\n",
       "<style scoped>\n",
       "    .dataframe tbody tr th:only-of-type {\n",
       "        vertical-align: middle;\n",
       "    }\n",
       "\n",
       "    .dataframe tbody tr th {\n",
       "        vertical-align: top;\n",
       "    }\n",
       "\n",
       "    .dataframe thead th {\n",
       "        text-align: right;\n",
       "    }\n",
       "</style>\n",
       "<table border=\"1\" class=\"dataframe\">\n",
       "  <thead>\n",
       "    <tr style=\"text-align: right;\">\n",
       "      <th></th>\n",
       "      <th>Age</th>\n",
       "      <th>RestingBP</th>\n",
       "      <th>Cholesterol</th>\n",
       "      <th>MaxHR</th>\n",
       "      <th>Oldpeak</th>\n",
       "      <th>HeartDisease</th>\n",
       "      <th>Class_Age_0</th>\n",
       "      <th>Class_Age_1</th>\n",
       "      <th>Class_Age_2</th>\n",
       "      <th>Class_Age_3</th>\n",
       "      <th>...</th>\n",
       "      <th>FastingBS_0</th>\n",
       "      <th>FastingBS_1</th>\n",
       "      <th>RestingECG_0</th>\n",
       "      <th>RestingECG_1</th>\n",
       "      <th>RestingECG_2</th>\n",
       "      <th>ExerciseAngina_0</th>\n",
       "      <th>ExerciseAngina_1</th>\n",
       "      <th>ST_Slope_0</th>\n",
       "      <th>ST_Slope_1</th>\n",
       "      <th>ST_Slope_2</th>\n",
       "    </tr>\n",
       "  </thead>\n",
       "  <tbody>\n",
       "    <tr>\n",
       "      <th>0</th>\n",
       "      <td>0.244898</td>\n",
       "      <td>0.70</td>\n",
       "      <td>0.479270</td>\n",
       "      <td>0.788732</td>\n",
       "      <td>0.295455</td>\n",
       "      <td>0</td>\n",
       "      <td>1</td>\n",
       "      <td>0</td>\n",
       "      <td>0</td>\n",
       "      <td>0</td>\n",
       "      <td>...</td>\n",
       "      <td>1</td>\n",
       "      <td>0</td>\n",
       "      <td>0</td>\n",
       "      <td>1</td>\n",
       "      <td>0</td>\n",
       "      <td>1</td>\n",
       "      <td>0</td>\n",
       "      <td>0</td>\n",
       "      <td>0</td>\n",
       "      <td>1</td>\n",
       "    </tr>\n",
       "    <tr>\n",
       "      <th>1</th>\n",
       "      <td>0.428571</td>\n",
       "      <td>0.80</td>\n",
       "      <td>0.298507</td>\n",
       "      <td>0.676056</td>\n",
       "      <td>0.409091</td>\n",
       "      <td>1</td>\n",
       "      <td>0</td>\n",
       "      <td>1</td>\n",
       "      <td>0</td>\n",
       "      <td>0</td>\n",
       "      <td>...</td>\n",
       "      <td>1</td>\n",
       "      <td>0</td>\n",
       "      <td>0</td>\n",
       "      <td>1</td>\n",
       "      <td>0</td>\n",
       "      <td>1</td>\n",
       "      <td>0</td>\n",
       "      <td>0</td>\n",
       "      <td>1</td>\n",
       "      <td>0</td>\n",
       "    </tr>\n",
       "    <tr>\n",
       "      <th>2</th>\n",
       "      <td>0.183673</td>\n",
       "      <td>0.65</td>\n",
       "      <td>0.469320</td>\n",
       "      <td>0.267606</td>\n",
       "      <td>0.295455</td>\n",
       "      <td>0</td>\n",
       "      <td>1</td>\n",
       "      <td>0</td>\n",
       "      <td>0</td>\n",
       "      <td>0</td>\n",
       "      <td>...</td>\n",
       "      <td>1</td>\n",
       "      <td>0</td>\n",
       "      <td>0</td>\n",
       "      <td>0</td>\n",
       "      <td>1</td>\n",
       "      <td>1</td>\n",
       "      <td>0</td>\n",
       "      <td>0</td>\n",
       "      <td>0</td>\n",
       "      <td>1</td>\n",
       "    </tr>\n",
       "    <tr>\n",
       "      <th>3</th>\n",
       "      <td>0.408163</td>\n",
       "      <td>0.69</td>\n",
       "      <td>0.354892</td>\n",
       "      <td>0.338028</td>\n",
       "      <td>0.465909</td>\n",
       "      <td>1</td>\n",
       "      <td>0</td>\n",
       "      <td>1</td>\n",
       "      <td>0</td>\n",
       "      <td>0</td>\n",
       "      <td>...</td>\n",
       "      <td>1</td>\n",
       "      <td>0</td>\n",
       "      <td>0</td>\n",
       "      <td>1</td>\n",
       "      <td>0</td>\n",
       "      <td>0</td>\n",
       "      <td>1</td>\n",
       "      <td>0</td>\n",
       "      <td>1</td>\n",
       "      <td>0</td>\n",
       "    </tr>\n",
       "    <tr>\n",
       "      <th>4</th>\n",
       "      <td>0.530612</td>\n",
       "      <td>0.75</td>\n",
       "      <td>0.323383</td>\n",
       "      <td>0.436620</td>\n",
       "      <td>0.295455</td>\n",
       "      <td>0</td>\n",
       "      <td>0</td>\n",
       "      <td>1</td>\n",
       "      <td>0</td>\n",
       "      <td>0</td>\n",
       "      <td>...</td>\n",
       "      <td>1</td>\n",
       "      <td>0</td>\n",
       "      <td>0</td>\n",
       "      <td>1</td>\n",
       "      <td>0</td>\n",
       "      <td>1</td>\n",
       "      <td>0</td>\n",
       "      <td>0</td>\n",
       "      <td>0</td>\n",
       "      <td>1</td>\n",
       "    </tr>\n",
       "  </tbody>\n",
       "</table>\n",
       "<p>5 rows × 26 columns</p>\n",
       "</div>"
      ],
      "text/plain": [
       "        Age  RestingBP  Cholesterol     MaxHR   Oldpeak  HeartDisease  \\\n",
       "0  0.244898       0.70     0.479270  0.788732  0.295455             0   \n",
       "1  0.428571       0.80     0.298507  0.676056  0.409091             1   \n",
       "2  0.183673       0.65     0.469320  0.267606  0.295455             0   \n",
       "3  0.408163       0.69     0.354892  0.338028  0.465909             1   \n",
       "4  0.530612       0.75     0.323383  0.436620  0.295455             0   \n",
       "\n",
       "   Class_Age_0  Class_Age_1  Class_Age_2  Class_Age_3  ...  FastingBS_0  \\\n",
       "0            1            0            0            0  ...            1   \n",
       "1            0            1            0            0  ...            1   \n",
       "2            1            0            0            0  ...            1   \n",
       "3            0            1            0            0  ...            1   \n",
       "4            0            1            0            0  ...            1   \n",
       "\n",
       "   FastingBS_1  RestingECG_0  RestingECG_1  RestingECG_2  ExerciseAngina_0  \\\n",
       "0            0             0             1             0                 1   \n",
       "1            0             0             1             0                 1   \n",
       "2            0             0             0             1                 1   \n",
       "3            0             0             1             0                 0   \n",
       "4            0             0             1             0                 1   \n",
       "\n",
       "   ExerciseAngina_1  ST_Slope_0  ST_Slope_1  ST_Slope_2  \n",
       "0                 0           0           0           1  \n",
       "1                 0           0           1           0  \n",
       "2                 0           0           0           1  \n",
       "3                 1           0           1           0  \n",
       "4                 0           0           0           1  \n",
       "\n",
       "[5 rows x 26 columns]"
      ]
     },
     "execution_count": 38,
     "metadata": {},
     "output_type": "execute_result"
    }
   ],
   "source": [
    "#Encodage des valeurs catégorielles du dataset\n",
    "label = preprocessing.LabelEncoder()\n",
    "data_encoded = pd.DataFrame()\n",
    "\n",
    "for i in df.columns :\n",
    "    if i in ('Class_Age','Sex','ChestPainType','FastingBS','RestingECG','ExerciseAngina','ST_Slope') :\n",
    "      df[i]=label.fit_transform(df[i])\n",
    "\n",
    "#Dichotomisation des variables catégorielles\n",
    "df = pd.get_dummies(df, columns=[\"Class_Age\",\"Sex\",\"ChestPainType\",\"FastingBS\",\"RestingECG\",\"ExerciseAngina\",\"ST_Slope\"])\n",
    "\n",
    "#Mise à l'échelle des données continue\n",
    "scaler = MinMaxScaler()\n",
    "col = [\"Age\",\"RestingBP\",\"Cholesterol\",\"MaxHR\",\"Oldpeak\"]\n",
    "df[col] = scaler.fit_transform(df[col])\n",
    "\n",
    "df.head()"
   ]
  },
  {
   "cell_type": "code",
   "execution_count": 39,
   "metadata": {},
   "outputs": [],
   "source": [
    "#Réorganisation du dataset avec les variables catégorielles, continues d'un côté et la variable HeartDisease de l'autre\n",
    "df = df[[\"Age\",\"RestingBP\",\"Cholesterol\",\"MaxHR\",\"Oldpeak\",\"Class_Age_0\",\"Class_Age_1\",\"Class_Age_2\",\"Class_Age_3\",\n",
    "        \"Sex_0\",\"Sex_1\",\"ChestPainType_0\",\"ChestPainType_1\",\"ChestPainType_2\",\"ChestPainType_3\",\"FastingBS_0\",\"FastingBS_1\",\n",
    "        \"RestingECG_0\",\"RestingECG_1\",\"RestingECG_2\",\"ExerciseAngina_0\",\"ExerciseAngina_1\",\"ST_Slope_0\",\"ST_Slope_1\",\"ST_Slope_2\",\n",
    "        \"HeartDisease\"]]"
   ]
  },
  {
   "cell_type": "code",
   "execution_count": 40,
   "metadata": {},
   "outputs": [
    {
     "data": {
      "text/html": [
       "<div>\n",
       "<style scoped>\n",
       "    .dataframe tbody tr th:only-of-type {\n",
       "        vertical-align: middle;\n",
       "    }\n",
       "\n",
       "    .dataframe tbody tr th {\n",
       "        vertical-align: top;\n",
       "    }\n",
       "\n",
       "    .dataframe thead th {\n",
       "        text-align: right;\n",
       "    }\n",
       "</style>\n",
       "<table border=\"1\" class=\"dataframe\">\n",
       "  <thead>\n",
       "    <tr style=\"text-align: right;\">\n",
       "      <th></th>\n",
       "      <th>Age</th>\n",
       "      <th>RestingBP</th>\n",
       "      <th>Cholesterol</th>\n",
       "      <th>MaxHR</th>\n",
       "      <th>Oldpeak</th>\n",
       "      <th>Class_Age_0</th>\n",
       "      <th>Class_Age_1</th>\n",
       "      <th>Class_Age_2</th>\n",
       "      <th>Class_Age_3</th>\n",
       "      <th>Sex_0</th>\n",
       "      <th>...</th>\n",
       "      <th>FastingBS_1</th>\n",
       "      <th>RestingECG_0</th>\n",
       "      <th>RestingECG_1</th>\n",
       "      <th>RestingECG_2</th>\n",
       "      <th>ExerciseAngina_0</th>\n",
       "      <th>ExerciseAngina_1</th>\n",
       "      <th>ST_Slope_0</th>\n",
       "      <th>ST_Slope_1</th>\n",
       "      <th>ST_Slope_2</th>\n",
       "      <th>HeartDisease</th>\n",
       "    </tr>\n",
       "  </thead>\n",
       "  <tbody>\n",
       "    <tr>\n",
       "      <th>0</th>\n",
       "      <td>0.244898</td>\n",
       "      <td>0.70</td>\n",
       "      <td>0.479270</td>\n",
       "      <td>0.788732</td>\n",
       "      <td>0.295455</td>\n",
       "      <td>1</td>\n",
       "      <td>0</td>\n",
       "      <td>0</td>\n",
       "      <td>0</td>\n",
       "      <td>0</td>\n",
       "      <td>...</td>\n",
       "      <td>0</td>\n",
       "      <td>0</td>\n",
       "      <td>1</td>\n",
       "      <td>0</td>\n",
       "      <td>1</td>\n",
       "      <td>0</td>\n",
       "      <td>0</td>\n",
       "      <td>0</td>\n",
       "      <td>1</td>\n",
       "      <td>0</td>\n",
       "    </tr>\n",
       "    <tr>\n",
       "      <th>1</th>\n",
       "      <td>0.428571</td>\n",
       "      <td>0.80</td>\n",
       "      <td>0.298507</td>\n",
       "      <td>0.676056</td>\n",
       "      <td>0.409091</td>\n",
       "      <td>0</td>\n",
       "      <td>1</td>\n",
       "      <td>0</td>\n",
       "      <td>0</td>\n",
       "      <td>1</td>\n",
       "      <td>...</td>\n",
       "      <td>0</td>\n",
       "      <td>0</td>\n",
       "      <td>1</td>\n",
       "      <td>0</td>\n",
       "      <td>1</td>\n",
       "      <td>0</td>\n",
       "      <td>0</td>\n",
       "      <td>1</td>\n",
       "      <td>0</td>\n",
       "      <td>1</td>\n",
       "    </tr>\n",
       "    <tr>\n",
       "      <th>2</th>\n",
       "      <td>0.183673</td>\n",
       "      <td>0.65</td>\n",
       "      <td>0.469320</td>\n",
       "      <td>0.267606</td>\n",
       "      <td>0.295455</td>\n",
       "      <td>1</td>\n",
       "      <td>0</td>\n",
       "      <td>0</td>\n",
       "      <td>0</td>\n",
       "      <td>0</td>\n",
       "      <td>...</td>\n",
       "      <td>0</td>\n",
       "      <td>0</td>\n",
       "      <td>0</td>\n",
       "      <td>1</td>\n",
       "      <td>1</td>\n",
       "      <td>0</td>\n",
       "      <td>0</td>\n",
       "      <td>0</td>\n",
       "      <td>1</td>\n",
       "      <td>0</td>\n",
       "    </tr>\n",
       "    <tr>\n",
       "      <th>3</th>\n",
       "      <td>0.408163</td>\n",
       "      <td>0.69</td>\n",
       "      <td>0.354892</td>\n",
       "      <td>0.338028</td>\n",
       "      <td>0.465909</td>\n",
       "      <td>0</td>\n",
       "      <td>1</td>\n",
       "      <td>0</td>\n",
       "      <td>0</td>\n",
       "      <td>1</td>\n",
       "      <td>...</td>\n",
       "      <td>0</td>\n",
       "      <td>0</td>\n",
       "      <td>1</td>\n",
       "      <td>0</td>\n",
       "      <td>0</td>\n",
       "      <td>1</td>\n",
       "      <td>0</td>\n",
       "      <td>1</td>\n",
       "      <td>0</td>\n",
       "      <td>1</td>\n",
       "    </tr>\n",
       "    <tr>\n",
       "      <th>4</th>\n",
       "      <td>0.530612</td>\n",
       "      <td>0.75</td>\n",
       "      <td>0.323383</td>\n",
       "      <td>0.436620</td>\n",
       "      <td>0.295455</td>\n",
       "      <td>0</td>\n",
       "      <td>1</td>\n",
       "      <td>0</td>\n",
       "      <td>0</td>\n",
       "      <td>0</td>\n",
       "      <td>...</td>\n",
       "      <td>0</td>\n",
       "      <td>0</td>\n",
       "      <td>1</td>\n",
       "      <td>0</td>\n",
       "      <td>1</td>\n",
       "      <td>0</td>\n",
       "      <td>0</td>\n",
       "      <td>0</td>\n",
       "      <td>1</td>\n",
       "      <td>0</td>\n",
       "    </tr>\n",
       "    <tr>\n",
       "      <th>...</th>\n",
       "      <td>...</td>\n",
       "      <td>...</td>\n",
       "      <td>...</td>\n",
       "      <td>...</td>\n",
       "      <td>...</td>\n",
       "      <td>...</td>\n",
       "      <td>...</td>\n",
       "      <td>...</td>\n",
       "      <td>...</td>\n",
       "      <td>...</td>\n",
       "      <td>...</td>\n",
       "      <td>...</td>\n",
       "      <td>...</td>\n",
       "      <td>...</td>\n",
       "      <td>...</td>\n",
       "      <td>...</td>\n",
       "      <td>...</td>\n",
       "      <td>...</td>\n",
       "      <td>...</td>\n",
       "      <td>...</td>\n",
       "      <td>...</td>\n",
       "    </tr>\n",
       "    <tr>\n",
       "      <th>913</th>\n",
       "      <td>0.346939</td>\n",
       "      <td>0.55</td>\n",
       "      <td>0.437811</td>\n",
       "      <td>0.507042</td>\n",
       "      <td>0.431818</td>\n",
       "      <td>1</td>\n",
       "      <td>0</td>\n",
       "      <td>0</td>\n",
       "      <td>0</td>\n",
       "      <td>0</td>\n",
       "      <td>...</td>\n",
       "      <td>0</td>\n",
       "      <td>0</td>\n",
       "      <td>1</td>\n",
       "      <td>0</td>\n",
       "      <td>1</td>\n",
       "      <td>0</td>\n",
       "      <td>0</td>\n",
       "      <td>1</td>\n",
       "      <td>0</td>\n",
       "      <td>1</td>\n",
       "    </tr>\n",
       "    <tr>\n",
       "      <th>914</th>\n",
       "      <td>0.816327</td>\n",
       "      <td>0.72</td>\n",
       "      <td>0.320066</td>\n",
       "      <td>0.570423</td>\n",
       "      <td>0.681818</td>\n",
       "      <td>0</td>\n",
       "      <td>0</td>\n",
       "      <td>0</td>\n",
       "      <td>1</td>\n",
       "      <td>0</td>\n",
       "      <td>...</td>\n",
       "      <td>1</td>\n",
       "      <td>0</td>\n",
       "      <td>1</td>\n",
       "      <td>0</td>\n",
       "      <td>1</td>\n",
       "      <td>0</td>\n",
       "      <td>0</td>\n",
       "      <td>1</td>\n",
       "      <td>0</td>\n",
       "      <td>1</td>\n",
       "    </tr>\n",
       "    <tr>\n",
       "      <th>915</th>\n",
       "      <td>0.591837</td>\n",
       "      <td>0.65</td>\n",
       "      <td>0.217247</td>\n",
       "      <td>0.387324</td>\n",
       "      <td>0.431818</td>\n",
       "      <td>0</td>\n",
       "      <td>0</td>\n",
       "      <td>1</td>\n",
       "      <td>0</td>\n",
       "      <td>0</td>\n",
       "      <td>...</td>\n",
       "      <td>0</td>\n",
       "      <td>0</td>\n",
       "      <td>1</td>\n",
       "      <td>0</td>\n",
       "      <td>0</td>\n",
       "      <td>1</td>\n",
       "      <td>0</td>\n",
       "      <td>1</td>\n",
       "      <td>0</td>\n",
       "      <td>1</td>\n",
       "    </tr>\n",
       "    <tr>\n",
       "      <th>916</th>\n",
       "      <td>0.591837</td>\n",
       "      <td>0.65</td>\n",
       "      <td>0.391376</td>\n",
       "      <td>0.802817</td>\n",
       "      <td>0.295455</td>\n",
       "      <td>0</td>\n",
       "      <td>0</td>\n",
       "      <td>1</td>\n",
       "      <td>0</td>\n",
       "      <td>1</td>\n",
       "      <td>...</td>\n",
       "      <td>0</td>\n",
       "      <td>1</td>\n",
       "      <td>0</td>\n",
       "      <td>0</td>\n",
       "      <td>1</td>\n",
       "      <td>0</td>\n",
       "      <td>0</td>\n",
       "      <td>1</td>\n",
       "      <td>0</td>\n",
       "      <td>1</td>\n",
       "    </tr>\n",
       "    <tr>\n",
       "      <th>917</th>\n",
       "      <td>0.204082</td>\n",
       "      <td>0.69</td>\n",
       "      <td>0.290216</td>\n",
       "      <td>0.795775</td>\n",
       "      <td>0.295455</td>\n",
       "      <td>1</td>\n",
       "      <td>0</td>\n",
       "      <td>0</td>\n",
       "      <td>0</td>\n",
       "      <td>0</td>\n",
       "      <td>...</td>\n",
       "      <td>0</td>\n",
       "      <td>0</td>\n",
       "      <td>1</td>\n",
       "      <td>0</td>\n",
       "      <td>1</td>\n",
       "      <td>0</td>\n",
       "      <td>0</td>\n",
       "      <td>0</td>\n",
       "      <td>1</td>\n",
       "      <td>0</td>\n",
       "    </tr>\n",
       "  </tbody>\n",
       "</table>\n",
       "<p>918 rows × 26 columns</p>\n",
       "</div>"
      ],
      "text/plain": [
       "          Age  RestingBP  Cholesterol     MaxHR   Oldpeak  Class_Age_0  \\\n",
       "0    0.244898       0.70     0.479270  0.788732  0.295455            1   \n",
       "1    0.428571       0.80     0.298507  0.676056  0.409091            0   \n",
       "2    0.183673       0.65     0.469320  0.267606  0.295455            1   \n",
       "3    0.408163       0.69     0.354892  0.338028  0.465909            0   \n",
       "4    0.530612       0.75     0.323383  0.436620  0.295455            0   \n",
       "..        ...        ...          ...       ...       ...          ...   \n",
       "913  0.346939       0.55     0.437811  0.507042  0.431818            1   \n",
       "914  0.816327       0.72     0.320066  0.570423  0.681818            0   \n",
       "915  0.591837       0.65     0.217247  0.387324  0.431818            0   \n",
       "916  0.591837       0.65     0.391376  0.802817  0.295455            0   \n",
       "917  0.204082       0.69     0.290216  0.795775  0.295455            1   \n",
       "\n",
       "     Class_Age_1  Class_Age_2  Class_Age_3  Sex_0  ...  FastingBS_1  \\\n",
       "0              0            0            0      0  ...            0   \n",
       "1              1            0            0      1  ...            0   \n",
       "2              0            0            0      0  ...            0   \n",
       "3              1            0            0      1  ...            0   \n",
       "4              1            0            0      0  ...            0   \n",
       "..           ...          ...          ...    ...  ...          ...   \n",
       "913            0            0            0      0  ...            0   \n",
       "914            0            0            1      0  ...            1   \n",
       "915            0            1            0      0  ...            0   \n",
       "916            0            1            0      1  ...            0   \n",
       "917            0            0            0      0  ...            0   \n",
       "\n",
       "     RestingECG_0  RestingECG_1  RestingECG_2  ExerciseAngina_0  \\\n",
       "0               0             1             0                 1   \n",
       "1               0             1             0                 1   \n",
       "2               0             0             1                 1   \n",
       "3               0             1             0                 0   \n",
       "4               0             1             0                 1   \n",
       "..            ...           ...           ...               ...   \n",
       "913             0             1             0                 1   \n",
       "914             0             1             0                 1   \n",
       "915             0             1             0                 0   \n",
       "916             1             0             0                 1   \n",
       "917             0             1             0                 1   \n",
       "\n",
       "     ExerciseAngina_1  ST_Slope_0  ST_Slope_1  ST_Slope_2  HeartDisease  \n",
       "0                   0           0           0           1             0  \n",
       "1                   0           0           1           0             1  \n",
       "2                   0           0           0           1             0  \n",
       "3                   1           0           1           0             1  \n",
       "4                   0           0           0           1             0  \n",
       "..                ...         ...         ...         ...           ...  \n",
       "913                 0           0           1           0             1  \n",
       "914                 0           0           1           0             1  \n",
       "915                 1           0           1           0             1  \n",
       "916                 0           0           1           0             1  \n",
       "917                 0           0           0           1             0  \n",
       "\n",
       "[918 rows x 26 columns]"
      ]
     },
     "execution_count": 40,
     "metadata": {},
     "output_type": "execute_result"
    }
   ],
   "source": [
    "df"
   ]
  },
  {
   "cell_type": "markdown",
   "metadata": {},
   "source": [
    "### Méthode de classification supervisée"
   ]
  },
  {
   "cell_type": "markdown",
   "metadata": {},
   "source": [
    "Avant d'établir nos différentes méthodes de classification, nous allons séparer notre jeu de données.Dans une premier temps, on regroupe l'ensemble des données médicales de chaque patient: *data* et la colonne \"Heartdisease\" sur la présence d'une maladie cardiaque qui notre variable cible: *target*. Puis on sépare en une partie d'entrainement et une partie test notre jeu de donnée avec les proportions suivantes: 80% pour la partie entrainement et 20% pour la partie test. On s'assurera que le découpage se fait dans l'ordre du dataset par rapport à l'index. On spécifiera donc le paramètre 'test_size = 0.2' et 'shuffle = False' dans la fonction *train_test_split*."
   ]
  },
  {
   "cell_type": "code",
   "execution_count": 41,
   "metadata": {},
   "outputs": [],
   "source": [
    "#Séparation entre données d'entrainement et données test\n",
    "data = df.drop(\"HeartDisease\",axis=1)\n",
    "target = df.HeartDisease\n",
    "\n",
    "X_train, X_test, y_train, y_test = train_test_split(data, target, shuffle=False, test_size = 0.2)"
   ]
  },
  {
   "cell_type": "markdown",
   "metadata": {},
   "source": [
    "On s'interesse maintenant aux classifieurs qui vont nous permettre de résoudre notre étude de classification supervisée. On choisit de façon arbitraire de comparer les classifieurs suivant: \n",
    "- la méthode des K-plus proches voisins (KNeigborsClassifier)\n",
    "- une régression linéaire (LinearRegression)\n",
    "- la régression logistique (LogisticRegression) \n",
    "- une regression logistique regularisée (ElasticNet)\n",
    "- une méthode d'apprentissage par arbre de décision (DecisionClassifierTree)\n",
    "- un algorithme de forêt aléatoire (RandomForest)\n",
    "- une méthode de boosting (AdaBoost)  "
   ]
  },
  {
   "cell_type": "markdown",
   "metadata": {},
   "source": [
    "#### Méthodes des K-plus proches voisins"
   ]
  },
  {
   "cell_type": "markdown",
   "metadata": {},
   "source": [
    "La méthode des \"k-plus proches voisins\" fait partie des méthodes les plus simples d'apprentissage supervisé et peut être utilisé dans notre cas de cassification. Il s'agit d'une méthode non-paramétrique dans laquelle le modèle mémorise les observations de l'ensemble d'apprentissage pour la classification des données de l'ensemble test. En effet, cet alogorithme est qualifié de paresseux car il n'apprend rien durant la phase d'entrainement. Pour prédire la classe d'une nouvelle donnée, il va chercher les K-plus proches(en utilisant la distance euclidienne par exemple)et choisisra la classe des voisins majoritaires. On prendra un nombre de n-voisins égale à 5 et la métrique par défaut de Minkowski."
   ]
  },
  {
   "cell_type": "code",
   "execution_count": 42,
   "metadata": {},
   "outputs": [
    {
     "name": "stdout",
     "output_type": "stream",
     "text": [
      "Le score du modèle sur l ensemble d apprentissage est 0.8991825613079019\n",
      "Le score du modèle sur l ensemble test est 0.7663043478260869\n",
      "La MSE de la partie train est: 0.1008174386920981\n",
      "La MSE de la partie test est: 0.23369565217391305\n"
     ]
    }
   ],
   "source": [
    "#Classification avec la méthode des k-plus proches voisins\n",
    "knn=KNeighborsClassifier(n_neighbors=5)\n",
    "knn.fit(X_train, y_train)\n",
    "\n",
    "#Affichage des scores\n",
    "print('Le score du modèle sur l ensemble d apprentissage est',knn.score(X_train,y_train))\n",
    "print('Le score du modèle sur l ensemble test est',knn.score(X_test,y_test))\n",
    "\n",
    "#Affichage des erreurs\n",
    "knn_pred_train = knn.predict(X_train)\n",
    "knn_pred_test = knn.predict(X_test)\n",
    "print('La MSE de la partie train est:',mean_squared_error(knn_pred_train,y_train))\n",
    "print('La MSE de la partie test est:',mean_squared_error(knn_pred_test,y_test))"
   ]
  },
  {
   "cell_type": "code",
   "execution_count": 43,
   "metadata": {},
   "outputs": [
    {
     "data": {
      "text/html": [
       "<div>\n",
       "<style scoped>\n",
       "    .dataframe tbody tr th:only-of-type {\n",
       "        vertical-align: middle;\n",
       "    }\n",
       "\n",
       "    .dataframe tbody tr th {\n",
       "        vertical-align: top;\n",
       "    }\n",
       "\n",
       "    .dataframe thead th {\n",
       "        text-align: right;\n",
       "    }\n",
       "</style>\n",
       "<table border=\"1\" class=\"dataframe\">\n",
       "  <thead>\n",
       "    <tr style=\"text-align: right;\">\n",
       "      <th>Classe prédite</th>\n",
       "      <th>0</th>\n",
       "      <th>1</th>\n",
       "    </tr>\n",
       "    <tr>\n",
       "      <th>Classe réelle</th>\n",
       "      <th></th>\n",
       "      <th></th>\n",
       "    </tr>\n",
       "  </thead>\n",
       "  <tbody>\n",
       "    <tr>\n",
       "      <th>0</th>\n",
       "      <td>76</td>\n",
       "      <td>22</td>\n",
       "    </tr>\n",
       "    <tr>\n",
       "      <th>1</th>\n",
       "      <td>21</td>\n",
       "      <td>65</td>\n",
       "    </tr>\n",
       "  </tbody>\n",
       "</table>\n",
       "</div>"
      ],
      "text/plain": [
       "Classe prédite   0   1\n",
       "Classe réelle         \n",
       "0               76  22\n",
       "1               21  65"
      ]
     },
     "execution_count": 43,
     "metadata": {},
     "output_type": "execute_result"
    }
   ],
   "source": [
    "#Calcul de la matrice de prediction\n",
    "cm = pd.crosstab(y_test,knn_pred_test , rownames=['Classe réelle'], colnames=['Classe prédite'])\n",
    "cm"
   ]
  },
  {
   "cell_type": "markdown",
   "metadata": {},
   "source": [
    "On constate que le score est très élevé de 0.76 pour la partie test et qu'il s'adapte très bien à notre étude. On constate également que le score test est inférieur à notre score d'entrainement comme l'écart entre les erreurs. On parle alors d'overfitting de notre système prédictif qui s'adapte trop bien aux données d'entrainement. Par la suite, on essaiera de réduire cet écart en modifiant les hyperparamètres de la fonction *KNeighborsClassifier*. La matrice de confusion nous montre que 141 sujets ont été bien catégorisés contre 43 patients où il y eu une erreur de diagnostique."
   ]
  },
  {
   "cell_type": "markdown",
   "metadata": {},
   "source": [
    "#### Régression linéaire"
   ]
  },
  {
   "cell_type": "markdown",
   "metadata": {},
   "source": [
    "En statistiques, en économétrie et en apprentissage automatique, un modèle de régression linéaire est un modèle de régression qui cherche à établir une relation linéaire entre une variable, dite expliquée, et une ou plusieurs variables, dites explicatives. On parle aussi de modèle linéaire ou de modèle de régression linéaire. "
   ]
  },
  {
   "cell_type": "code",
   "execution_count": 44,
   "metadata": {},
   "outputs": [
    {
     "name": "stdout",
     "output_type": "stream",
     "text": [
      "Le score du modèle sur l ensemble d apprentissage est 0.6094679004519631\n",
      "Le score du modèle sur l ensemble test est 0.3984332901072488\n",
      "La MSE de la partie train est: 0.09544027046546624\n",
      "La MSE de la partie test est: 0.1497520153289256\n"
     ]
    }
   ],
   "source": [
    "#Classification LinearSVC\n",
    "lr = LinearRegression()\n",
    "lr.fit(X_train,y_train)\n",
    "\n",
    "#Affichage des scores\n",
    "print('Le score du modèle sur l ensemble d apprentissage est',lr.score(X_train,y_train))\n",
    "print('Le score du modèle sur l ensemble test est',lr.score(X_test,y_test))\n",
    "\n",
    "#Affichage des erreurs\n",
    "lr_pred_train = lr.predict(X_train)\n",
    "lr_pred_test = lr.predict(X_test)\n",
    "print('La MSE de la partie train est:',mean_squared_error(lr_pred_train,y_train))\n",
    "print('La MSE de la partie test est:',mean_squared_error(lr_pred_test,y_test))"
   ]
  },
  {
   "cell_type": "markdown",
   "metadata": {},
   "source": [
    "Les scores sont moins bons avec cette méthode avec un score test de 0.39. Il y a toujours de l'overfitting avec une légère diminution. "
   ]
  },
  {
   "cell_type": "markdown",
   "metadata": {},
   "source": [
    "#### Régression Logistique"
   ]
  },
  {
   "cell_type": "markdown",
   "metadata": {},
   "source": [
    "La regression logistique est un modèle de régression binomiale. Comme tous les modèles de régression binomiale, il s'agit de modéliser au mieux un modèle mathématique simple à partir des observations réelles nombreuses. En d'autres termes d'associer à un vecteur de variables aléatoires ( x 1 , … , x K ) à une variable aléatoire binomiale génériquement notée y. La régression logistique constitue un cas particulier de modèle linéaire généralisé. Elle est largement utilisée en apprentissage automatique. On fixera le maximum d'itérations à 2000 pour réaliser la convergence."
   ]
  },
  {
   "cell_type": "code",
   "execution_count": 45,
   "metadata": {},
   "outputs": [
    {
     "name": "stdout",
     "output_type": "stream",
     "text": [
      "Le score du modèle sur l ensemble d apprentissage est 0.8869209809264306\n",
      "Le score du modèle sur l ensemble test est 0.7717391304347826\n",
      "La MSE de la partie train est: 0.11307901907356949\n",
      "La MSE de la partie test est: 0.22826086956521738\n"
     ]
    }
   ],
   "source": [
    "#Classification à l'aide d'une régression logistique\n",
    "clf = LogisticRegression(max_iter=2000)\n",
    "clf.fit(X_train, y_train)\n",
    "\n",
    "#Affichage des scores\n",
    "print('Le score du modèle sur l ensemble d apprentissage est',clf.score(X_train,y_train))\n",
    "print('Le score du modèle sur l ensemble test est',clf.score(X_test,y_test))\n",
    "\n",
    "#Affichage des erreurs\n",
    "clf_pred_train = clf.predict(X_train)\n",
    "clf_pred_test = clf.predict(X_test)\n",
    "print('La MSE de la partie train est:',mean_squared_error(clf_pred_train,y_train))\n",
    "print('La MSE de la partie test est:',mean_squared_error(clf_pred_test,y_test))"
   ]
  },
  {
   "cell_type": "code",
   "execution_count": 46,
   "metadata": {},
   "outputs": [
    {
     "data": {
      "text/html": [
       "<div>\n",
       "<style scoped>\n",
       "    .dataframe tbody tr th:only-of-type {\n",
       "        vertical-align: middle;\n",
       "    }\n",
       "\n",
       "    .dataframe tbody tr th {\n",
       "        vertical-align: top;\n",
       "    }\n",
       "\n",
       "    .dataframe thead th {\n",
       "        text-align: right;\n",
       "    }\n",
       "</style>\n",
       "<table border=\"1\" class=\"dataframe\">\n",
       "  <thead>\n",
       "    <tr style=\"text-align: right;\">\n",
       "      <th>Classe prédite</th>\n",
       "      <th>0</th>\n",
       "      <th>1</th>\n",
       "    </tr>\n",
       "    <tr>\n",
       "      <th>Classe réelle</th>\n",
       "      <th></th>\n",
       "      <th></th>\n",
       "    </tr>\n",
       "  </thead>\n",
       "  <tbody>\n",
       "    <tr>\n",
       "      <th>0</th>\n",
       "      <td>77</td>\n",
       "      <td>21</td>\n",
       "    </tr>\n",
       "    <tr>\n",
       "      <th>1</th>\n",
       "      <td>21</td>\n",
       "      <td>65</td>\n",
       "    </tr>\n",
       "  </tbody>\n",
       "</table>\n",
       "</div>"
      ],
      "text/plain": [
       "Classe prédite   0   1\n",
       "Classe réelle         \n",
       "0               77  21\n",
       "1               21  65"
      ]
     },
     "execution_count": 46,
     "metadata": {},
     "output_type": "execute_result"
    }
   ],
   "source": [
    "#Calcul de la matrice de prediction\n",
    "cm = pd.crosstab(y_test,clf_pred_test , rownames=['Classe réelle'], colnames=['Classe prédite'])\n",
    "cm"
   ]
  },
  {
   "cell_type": "markdown",
   "metadata": {},
   "source": [
    "De nouveau, le score est très bon avec cette méthode avec un score test de 0.77. Il y a toujours de l'overfitting avec une légère diminution une nouvelle fois. 142 patients ont été bien catégorisés contre 42 selon la matrice de confusion."
   ]
  },
  {
   "cell_type": "markdown",
   "metadata": {},
   "source": [
    "#### Régression Logistique régularisée"
   ]
  },
  {
   "cell_type": "markdown",
   "metadata": {},
   "source": [
    "La méthode Elastic Net est un type de régression régularisée pour laquelle le coefficient de pénalisation est une combinaison linéaire des pénalité L1 et L2. Il est donc un dérivé des régressions de Ridge et Lasso avec pour avantages: la conservation de la capacité de sélection de variables de LASSO avec exclusion des variables non pertinentes et le partage des poids entre variables corrélées et pas de sélection arbitraire.  "
   ]
  },
  {
   "cell_type": "code",
   "execution_count": 47,
   "metadata": {},
   "outputs": [
    {
     "name": "stdout",
     "output_type": "stream",
     "text": [
      "Le score du modèle sur l ensemble d apprentissage est 0.6039960876746706\n",
      "Le score du modèle sur l ensemble test est 0.38775151227100824\n",
      "La valeur RMSE du modèle d entrainement est: 0.09677750059841964\n",
      "La valeur RMSE du modèle test est: 0.15241110156486118\n"
     ]
    }
   ],
   "source": [
    "#Classification à l'aide d'une régression régularisée appelée Elastic Net\n",
    "model_en = ElasticNetCV()\n",
    "model_en.fit(X_train,y_train)\n",
    "\n",
    "#Affichage des scores\n",
    "print('Le score du modèle sur l ensemble d apprentissage est',model_en.score(X_train,y_train))\n",
    "print('Le score du modèle sur l ensemble test est',model_en.score(X_test,y_test))\n",
    "\n",
    "#Affichage des erreurs\n",
    "mpred_train = model_en.predict(X_train)\n",
    "mpred_test = model_en.predict(X_test)\n",
    "print('La valeur RMSE du modèle d entrainement est:',mean_squared_error(mpred_train,y_train))\n",
    "print('La valeur RMSE du modèle test est:',mean_squared_error(mpred_test,y_test))"
   ]
  },
  {
   "cell_type": "markdown",
   "metadata": {},
   "source": [
    "Cette fois-ci, les score sont plus bas avec un score test de 0.38 avec une erreur de 0.15 plus basse. On constate un overfitting plus important que pour les modèles précédents."
   ]
  },
  {
   "cell_type": "markdown",
   "metadata": {},
   "source": [
    "#### Méthode d'apprentissage par arbre de décisision"
   ]
  },
  {
   "cell_type": "markdown",
   "metadata": {},
   "source": [
    "L'apprentissage par arbre de décission est une méthode basée sur l'utilisation d'un arbre de décision comme modèle prédictif. On l'utilise en fouille de donnée et en apprentissage automatique. Dans ces structures d'arbre, les feuilles représentent les valeurs de la variable-cible et les embranchements correspondent à des combinaisons de variables d'entrée qui mènent à ces valeurs. En analyse de décision, un arbre de décision peut être utilisé pour représenter de manière explicite les décisions réalisées et les processus qui les amènent. En apprentissage et en fouille de données, un arbre de décision décrit les données mais pas les décisions elles-mêmes, l'arbre serait utilisé comme point de départ au processus de décision. C'est une technique d'apprentissage supervisé : on utilise un ensemble de données pour lesquelles on connaît la valeur de la variable-cible afin de construire l'arbre (données dites étiquetées), puis on extrapole les résultats à l'ensemble des données de test. Les arbres de décision font partie des algorithmes les plus populaires en apprentissage automatique."
   ]
  },
  {
   "cell_type": "code",
   "execution_count": 48,
   "metadata": {},
   "outputs": [
    {
     "name": "stdout",
     "output_type": "stream",
     "text": [
      "Le score du modèle sur l ensemble d apprentissage est 0.9182561307901907\n",
      "Le score du modèle sur l ensemble test est 0.7554347826086957\n",
      "La valeur RMSE du modèle d entrainement est: 0.08174386920980926\n",
      "La valeur RMSE du modèle test est: 0.24456521739130435\n"
     ]
    }
   ],
   "source": [
    "#Classification par arbre de décision\n",
    "clf2 = DecisionTreeClassifier(max_depth=5)\n",
    "clf2.fit(X_train,y_train)\n",
    "\n",
    "#Affichage des scores\n",
    "print('Le score du modèle sur l ensemble d apprentissage est',clf2.score(X_train,y_train))\n",
    "print('Le score du modèle sur l ensemble test est',clf2.score(X_test,y_test))\n",
    "\n",
    "#Affichage des erreurs\n",
    "clf2_pred_train = clf2.predict(X_train)\n",
    "clf2_pred_test = clf2.predict(X_test)\n",
    "print('La valeur RMSE du modèle d entrainement est:',mean_squared_error(clf2_pred_train,y_train))\n",
    "print('La valeur RMSE du modèle test est:',mean_squared_error(clf2_pred_test,y_test))"
   ]
  },
  {
   "cell_type": "code",
   "execution_count": 49,
   "metadata": {},
   "outputs": [
    {
     "data": {
      "text/html": [
       "<div>\n",
       "<style scoped>\n",
       "    .dataframe tbody tr th:only-of-type {\n",
       "        vertical-align: middle;\n",
       "    }\n",
       "\n",
       "    .dataframe tbody tr th {\n",
       "        vertical-align: top;\n",
       "    }\n",
       "\n",
       "    .dataframe thead th {\n",
       "        text-align: right;\n",
       "    }\n",
       "</style>\n",
       "<table border=\"1\" class=\"dataframe\">\n",
       "  <thead>\n",
       "    <tr style=\"text-align: right;\">\n",
       "      <th>Classe prédite</th>\n",
       "      <th>0</th>\n",
       "      <th>1</th>\n",
       "    </tr>\n",
       "    <tr>\n",
       "      <th>Classe réelle</th>\n",
       "      <th></th>\n",
       "      <th></th>\n",
       "    </tr>\n",
       "  </thead>\n",
       "  <tbody>\n",
       "    <tr>\n",
       "      <th>0</th>\n",
       "      <td>71</td>\n",
       "      <td>27</td>\n",
       "    </tr>\n",
       "    <tr>\n",
       "      <th>1</th>\n",
       "      <td>18</td>\n",
       "      <td>68</td>\n",
       "    </tr>\n",
       "  </tbody>\n",
       "</table>\n",
       "</div>"
      ],
      "text/plain": [
       "Classe prédite   0   1\n",
       "Classe réelle         \n",
       "0               71  27\n",
       "1               18  68"
      ]
     },
     "execution_count": 49,
     "metadata": {},
     "output_type": "execute_result"
    }
   ],
   "source": [
    "#Calcul de la matrice de prediction\n",
    "cm = pd.crosstab(y_test,clf2_pred_test, rownames=['Classe réelle'], colnames=['Classe prédite'])\n",
    "cm"
   ]
  },
  {
   "cell_type": "markdown",
   "metadata": {},
   "source": [
    "Les scores sont ici très élevés avec un score test de 0.75. Il ya toujours présence d'overfitting entre la partie entrainement et la partie test. 139 patients ont été bien catégorisés contre 45 avec cet algorithme. "
   ]
  },
  {
   "cell_type": "markdown",
   "metadata": {},
   "source": [
    "#### Un algorithme de fôret aléatoire"
   ]
  },
  {
   "cell_type": "markdown",
   "metadata": {},
   "source": [
    "L'algorithme des \"fôrets aléatoires\" (ou Random Forest) est un algorithme de classification qui réduit la variance des prévisions d'un arbre seul, améliorant ainsi leurs performances. Pour cela, il combine de nombreux arbres de décisions dans une approche de type bagging."
   ]
  },
  {
   "cell_type": "code",
   "execution_count": 50,
   "metadata": {},
   "outputs": [
    {
     "name": "stdout",
     "output_type": "stream",
     "text": [
      "Le score du modèle sur l ensemble d apprentissage est 1.0\n",
      "Le score du modèle sur l ensemble test est 0.7880434782608695\n",
      "La valeur RMSE du modèle d entrainement est: 0.0\n",
      "La valeur RMSE du modèle test est: 0.21195652173913043\n"
     ]
    }
   ],
   "source": [
    "#Classification avec algorithme de forêt aléatoire\n",
    "clf3 = RandomForestClassifier()\n",
    "clf3.fit(X_train,y_train)\n",
    "\n",
    "#Affichage des scores\n",
    "print('Le score du modèle sur l ensemble d apprentissage est',clf3.score(X_train,y_train))\n",
    "print('Le score du modèle sur l ensemble test est',clf3.score(X_test,y_test))\n",
    "\n",
    "#Affichage des erreurs\n",
    "clf3_pred_train = clf3.predict(X_train)\n",
    "clf3_pred_test = clf3.predict(X_test)\n",
    "print('La valeur RMSE du modèle d entrainement est:',mean_squared_error(clf3_pred_train,y_train))\n",
    "print('La valeur RMSE du modèle test est:',mean_squared_error(clf3_pred_test,y_test))"
   ]
  },
  {
   "cell_type": "code",
   "execution_count": 51,
   "metadata": {},
   "outputs": [
    {
     "data": {
      "text/html": [
       "<div>\n",
       "<style scoped>\n",
       "    .dataframe tbody tr th:only-of-type {\n",
       "        vertical-align: middle;\n",
       "    }\n",
       "\n",
       "    .dataframe tbody tr th {\n",
       "        vertical-align: top;\n",
       "    }\n",
       "\n",
       "    .dataframe thead th {\n",
       "        text-align: right;\n",
       "    }\n",
       "</style>\n",
       "<table border=\"1\" class=\"dataframe\">\n",
       "  <thead>\n",
       "    <tr style=\"text-align: right;\">\n",
       "      <th>Classe prédite</th>\n",
       "      <th>0</th>\n",
       "      <th>1</th>\n",
       "    </tr>\n",
       "    <tr>\n",
       "      <th>Classe réelle</th>\n",
       "      <th></th>\n",
       "      <th></th>\n",
       "    </tr>\n",
       "  </thead>\n",
       "  <tbody>\n",
       "    <tr>\n",
       "      <th>0</th>\n",
       "      <td>76</td>\n",
       "      <td>22</td>\n",
       "    </tr>\n",
       "    <tr>\n",
       "      <th>1</th>\n",
       "      <td>17</td>\n",
       "      <td>69</td>\n",
       "    </tr>\n",
       "  </tbody>\n",
       "</table>\n",
       "</div>"
      ],
      "text/plain": [
       "Classe prédite   0   1\n",
       "Classe réelle         \n",
       "0               76  22\n",
       "1               17  69"
      ]
     },
     "execution_count": 51,
     "metadata": {},
     "output_type": "execute_result"
    }
   ],
   "source": [
    "#Calcul de la matrice de prediction\n",
    "cm = pd.crosstab(y_test,clf3_pred_test, rownames=['Classe réelle'], colnames=['Classe prédite'])\n",
    "cm"
   ]
  },
  {
   "cell_type": "markdown",
   "metadata": {},
   "source": [
    "Le score test est élevé avec un score de 0.78. Il y a toujours de l'overfitting entre la partie entrainement et la partie test. Selon la matrice de confusion, 144 patients ont été diagnostiqués positivement contre 40 patients. "
   ]
  },
  {
   "cell_type": "markdown",
   "metadata": {},
   "source": [
    "#### Une méthode de boosting"
   ]
  },
  {
   "cell_type": "markdown",
   "metadata": {},
   "source": [
    "Le Boosting est un ensemble de méthodes visant essentiellement à réduire le biais de modèles de Machine Learning simples et faibles et les convertir en un modèle stable et puissant. AdaBoost est un algorithme parmi tant d'autres dont l'idée consiste à appliquer cette règle plusieurs fois en affectant judicieusement un poids différent aux observations à chaque itération.\n",
    "Les poids de chaque observation sont initialisés à 1/n pour l’estimation du premier modèle.Ils sont ensuite mis à jour pour chaque itération. L’importance d’une observation est inchangée si l’observation est bien classée; dans le cas contraire elle augmente avec la qualité d’ajustement du modèle mesurée.\n",
    "L’agrégation finale est une combinaison des estimateurs obtenus pondérée par les qualités d’ajustement de chaque modèle."
   ]
  },
  {
   "cell_type": "code",
   "execution_count": 52,
   "metadata": {},
   "outputs": [
    {
     "name": "stdout",
     "output_type": "stream",
     "text": [
      "Le score du modèle sur l ensemble d apprentissage est 0.896457765667575\n",
      "Le score du modèle sur l ensemble test est 0.782608695652174\n",
      "La valeur RMSE du modèle d entrainement est: 0.10354223433242507\n",
      "La valeur RMSE du modèle test est: 0.21739130434782608\n"
     ]
    }
   ],
   "source": [
    "#Classification à l'aide de séquences d'arbre d'arbres de décisions ADABOOST \n",
    "ac = AdaBoostClassifier()\n",
    "ac.fit(X_train,y_train)\n",
    "\n",
    "#Affichage des scores\n",
    "print('Le score du modèle sur l ensemble d apprentissage est',ac.score(X_train,y_train))\n",
    "print('Le score du modèle sur l ensemble test est',ac.score(X_test,y_test))\n",
    "\n",
    "#Affichage des erreurs\n",
    "ac_pred_train = ac.predict(X_train)\n",
    "ac_pred_test = ac.predict(X_test)\n",
    "print('La valeur RMSE du modèle d entrainement est:',mean_squared_error(ac_pred_train,y_train))\n",
    "print('La valeur RMSE du modèle test est:',mean_squared_error(ac_pred_test,y_test))"
   ]
  },
  {
   "cell_type": "code",
   "execution_count": 53,
   "metadata": {},
   "outputs": [
    {
     "data": {
      "text/html": [
       "<div>\n",
       "<style scoped>\n",
       "    .dataframe tbody tr th:only-of-type {\n",
       "        vertical-align: middle;\n",
       "    }\n",
       "\n",
       "    .dataframe tbody tr th {\n",
       "        vertical-align: top;\n",
       "    }\n",
       "\n",
       "    .dataframe thead th {\n",
       "        text-align: right;\n",
       "    }\n",
       "</style>\n",
       "<table border=\"1\" class=\"dataframe\">\n",
       "  <thead>\n",
       "    <tr style=\"text-align: right;\">\n",
       "      <th>Classe prédite</th>\n",
       "      <th>0</th>\n",
       "      <th>1</th>\n",
       "    </tr>\n",
       "    <tr>\n",
       "      <th>Classe réelle</th>\n",
       "      <th></th>\n",
       "      <th></th>\n",
       "    </tr>\n",
       "  </thead>\n",
       "  <tbody>\n",
       "    <tr>\n",
       "      <th>0</th>\n",
       "      <td>80</td>\n",
       "      <td>18</td>\n",
       "    </tr>\n",
       "    <tr>\n",
       "      <th>1</th>\n",
       "      <td>22</td>\n",
       "      <td>64</td>\n",
       "    </tr>\n",
       "  </tbody>\n",
       "</table>\n",
       "</div>"
      ],
      "text/plain": [
       "Classe prédite   0   1\n",
       "Classe réelle         \n",
       "0               80  18\n",
       "1               22  64"
      ]
     },
     "execution_count": 53,
     "metadata": {},
     "output_type": "execute_result"
    }
   ],
   "source": [
    "#Calcul de la matrice de prediction\n",
    "cm = pd.crosstab(y_test,ac_pred_test, rownames=['Classe réelle'], colnames=['Classe prédite'])\n",
    "cm"
   ]
  },
  {
   "cell_type": "markdown",
   "metadata": {},
   "source": [
    "Pour finir, l'algorithme a un score test de 0.78. Tout comme l'algorithme précédent, la matrice de confusion 144 patients ont été diagnostiqués positivement contre 40 patients."
   ]
  },
  {
   "cell_type": "markdown",
   "metadata": {},
   "source": [
    "#### Récapitulatif des résultats"
   ]
  },
  {
   "cell_type": "code",
   "execution_count": 54,
   "metadata": {},
   "outputs": [
    {
     "data": {
      "text/html": [
       "<div>\n",
       "<style scoped>\n",
       "    .dataframe tbody tr th:only-of-type {\n",
       "        vertical-align: middle;\n",
       "    }\n",
       "\n",
       "    .dataframe tbody tr th {\n",
       "        vertical-align: top;\n",
       "    }\n",
       "\n",
       "    .dataframe thead th {\n",
       "        text-align: right;\n",
       "    }\n",
       "</style>\n",
       "<table border=\"1\" class=\"dataframe\">\n",
       "  <thead>\n",
       "    <tr style=\"text-align: right;\">\n",
       "      <th></th>\n",
       "      <th>KNN</th>\n",
       "      <th>Linear Regression</th>\n",
       "      <th>Logistic Regression</th>\n",
       "      <th>Elastic Net</th>\n",
       "      <th>Decision Classifier Tree</th>\n",
       "      <th>Random Forest</th>\n",
       "      <th>AdaBoost</th>\n",
       "    </tr>\n",
       "  </thead>\n",
       "  <tbody>\n",
       "    <tr>\n",
       "      <th>Score entrainement</th>\n",
       "      <td>0.899183</td>\n",
       "      <td>0.609468</td>\n",
       "      <td>0.886921</td>\n",
       "      <td>0.603996</td>\n",
       "      <td>0.918256</td>\n",
       "      <td>1.000000</td>\n",
       "      <td>0.896458</td>\n",
       "    </tr>\n",
       "    <tr>\n",
       "      <th>Score test</th>\n",
       "      <td>0.766304</td>\n",
       "      <td>0.398433</td>\n",
       "      <td>0.771739</td>\n",
       "      <td>0.387752</td>\n",
       "      <td>0.755435</td>\n",
       "      <td>0.788043</td>\n",
       "      <td>0.782609</td>\n",
       "    </tr>\n",
       "    <tr>\n",
       "      <th>MSE entrainement</th>\n",
       "      <td>0.100817</td>\n",
       "      <td>0.095440</td>\n",
       "      <td>0.113079</td>\n",
       "      <td>0.096778</td>\n",
       "      <td>0.081744</td>\n",
       "      <td>0.000000</td>\n",
       "      <td>0.103542</td>\n",
       "    </tr>\n",
       "    <tr>\n",
       "      <th>MSE test</th>\n",
       "      <td>0.233696</td>\n",
       "      <td>0.149752</td>\n",
       "      <td>0.228261</td>\n",
       "      <td>0.152411</td>\n",
       "      <td>0.244565</td>\n",
       "      <td>0.211957</td>\n",
       "      <td>0.217391</td>\n",
       "    </tr>\n",
       "  </tbody>\n",
       "</table>\n",
       "</div>"
      ],
      "text/plain": [
       "                         KNN  Linear Regression  Logistic Regression  \\\n",
       "Score entrainement  0.899183           0.609468             0.886921   \n",
       "Score test          0.766304           0.398433             0.771739   \n",
       "MSE entrainement    0.100817           0.095440             0.113079   \n",
       "MSE test            0.233696           0.149752             0.228261   \n",
       "\n",
       "                    Elastic Net  Decision Classifier Tree  Random Forest  \\\n",
       "Score entrainement     0.603996                  0.918256       1.000000   \n",
       "Score test             0.387752                  0.755435       0.788043   \n",
       "MSE entrainement       0.096778                  0.081744       0.000000   \n",
       "MSE test               0.152411                  0.244565       0.211957   \n",
       "\n",
       "                    AdaBoost  \n",
       "Score entrainement  0.896458  \n",
       "Score test          0.782609  \n",
       "MSE entrainement    0.103542  \n",
       "MSE test            0.217391  "
      ]
     },
     "execution_count": 54,
     "metadata": {},
     "output_type": "execute_result"
    }
   ],
   "source": [
    "#On récapitule les scores et erreurs dans différents tableaux qui seront fusionnés en un seul.\n",
    "res1 = pd.DataFrame((knn.score(X_train,y_train),knn.score(X_test,y_test),mean_squared_error(knn_pred_train,y_train),mean_squared_error(knn_pred_test,y_test)) , \n",
    "             index =['Score entrainement', 'Score test','MSE entrainement', 'MSE test'], columns = ['KNN'])\n",
    "\n",
    "res2 = pd.DataFrame((lr.score(X_train,y_train),lr.score(X_test,y_test),mean_squared_error(lr_pred_train,y_train),mean_squared_error(lr_pred_test,y_test)) , \n",
    "             index =['Score entrainement', 'Score test','MSE entrainement', 'MSE test'], columns = ['Linear Regression'])\n",
    "\n",
    "res3 = pd.DataFrame((clf.score(X_train,y_train),clf.score(X_test,y_test),mean_squared_error(clf_pred_train,y_train),mean_squared_error(clf_pred_test,y_test)) , \n",
    "             index =['Score entrainement', 'Score test','MSE entrainement', 'MSE test'], columns = ['Logistic Regression'])\n",
    "\n",
    "res4 = pd.DataFrame((model_en.score(X_train,y_train),model_en.score(X_test,y_test),mean_squared_error(mpred_train,y_train),mean_squared_error(mpred_test,y_test)) , \n",
    "             index =['Score entrainement', 'Score test','MSE entrainement', 'MSE test'], columns = ['Elastic Net'])\n",
    "\n",
    "res5 = pd.DataFrame((clf2.score(X_train,y_train),clf2.score(X_test,y_test),mean_squared_error(clf2_pred_train,y_train),mean_squared_error(clf2_pred_test,y_test)) , \n",
    "             index =['Score entrainement', 'Score test','MSE entrainement', 'MSE test'], columns = ['Decision Classifier Tree'])\n",
    "\n",
    "res6 = pd.DataFrame((clf3.score(X_train,y_train),clf3.score(X_test,y_test),mean_squared_error(clf3_pred_train,y_train),mean_squared_error(clf3_pred_test,y_test)) , \n",
    "             index =['Score entrainement', 'Score test','MSE entrainement', 'MSE test'], columns = ['Random Forest'])\n",
    "\n",
    "res7 = pd.DataFrame((ac.score(X_train,y_train),ac.score(X_test,y_test),mean_squared_error(ac_pred_train,y_train),mean_squared_error(ac_pred_test,y_test)) , \n",
    "             index =['Score entrainement', 'Score test','MSE entrainement', 'MSE test'], columns = ['AdaBoost'])\n",
    "\n",
    "tab = pd.concat([res1,res2,res3,res4,res5,res6,res7],axis=1)\n",
    "tab"
   ]
  },
  {
   "cell_type": "markdown",
   "metadata": {},
   "source": [
    "On constate parmi les algorithmes testés, les résultats tests sont entre 76% et 78%. Il n'y a que les algorithmes de régression linéaire et de régression logistique régularisée qui ont un score test nettement en-dessous. On conserve donc les autres algorithmes afin de faire varier leurs paramètres et choisir celui qui a les meilleur scores et qui minimise l'overfitting."
   ]
  },
  {
   "cell_type": "markdown",
   "metadata": {},
   "source": [
    "#### Sélection du modèle"
   ]
  },
  {
   "cell_type": "markdown",
   "metadata": {},
   "source": [
    "Dans cette partie, nous allons sélectionner un modèle grâce la validation croisée imbriquée (nested cross validation). En effet, celà va nous permettre de choisir nos hyperparamètres et d'estimer de manière la plus fiable possible l'erreur de généralisation de chaque modèle. "
   ]
  },
  {
   "cell_type": "code",
   "execution_count": 56,
   "metadata": {},
   "outputs": [],
   "source": [
    "#Instanciation de 2 grilles contenant les paramètres à tester de nos modèles\n",
    "param_grid_knn = {'n_neighbors':[5,10,20,40],\n",
    "                  'metric':['minkowski','manhattan']}\n",
    "\n",
    "param_grid_clf = { 'solver': ['liblinear', 'lbfgs'],\n",
    "                   'C':[0.1, 1, 10]}\n",
    "\n",
    "param_grid_clf2 = {'criterion':['gini','entropy'],\n",
    "                   'max_depth': [1,4,8],\n",
    "                   'max_features': ['sqrt', 'log2']}\n",
    "\n",
    "param_grid_clf3 = {'n_estimators': [10, 50, 100, 250],\n",
    "                   'min_samples_leaf': [1, 3, 5],\n",
    "                   'max_depth': [1,4,8],\n",
    "                   'max_features': ['sqrt', 'log2']}\n",
    "\n",
    "param_grid_ac = {'n_estimators':[50,500,1000]}"
   ]
  },
  {
   "cell_type": "code",
   "execution_count": 57,
   "metadata": {},
   "outputs": [],
   "source": [
    "#Instanciation d'une grille qui contient les modèles et les paramètres correspondants\n",
    "gridcvs ={}\n",
    "\n",
    "for pgrid, cl, name in zip((param_grid_knn, param_grid_clf, param_grid_clf2, param_grid_clf3, param_grid_ac),(knn,clf,clf2,clf3,ac),('KNN','Logistic Regression','Decision Classifier Tree','Random Forest','AdaBoost')):\n",
    "    gcv = GridSearchCV(cl,pgrid,cv=3,refit=True)\n",
    "    gridcvs[name] = gcv"
   ]
  },
  {
   "cell_type": "code",
   "execution_count": 58,
   "metadata": {},
   "outputs": [
    {
     "name": "stdout",
     "output_type": "stream",
     "text": [
      "KNN: outer accuracy 88.15 +/- 0.35\n",
      "Logistic Regression: outer accuracy 87.88 +/- 2.15\n",
      "Decision Classifier Tree: outer accuracy 81.47 +/- 1.23\n",
      "Random Forest: outer accuracy 88.70 +/- 1.63\n",
      "AdaBoost: outer accuracy 85.15 +/- 1.51\n"
     ]
    }
   ],
   "source": [
    "#Calcul des scores par validation croisée\n",
    "outer_cv = StratifiedKFold(n_splits=3, shuffle=True)\n",
    "outer_scores = {}\n",
    "\n",
    "for name, gs in gridcvs.items():\n",
    "    nested_score = cross_val_score(gs, \n",
    "                                   X_train, \n",
    "                                   y_train, \n",
    "                                   cv=outer_cv)\n",
    "    outer_scores[name] = nested_score\n",
    "    print(f'{name}: outer accuracy {100*nested_score.mean():.2f} +/- {100*nested_score.std():.2f}')"
   ]
  },
  {
   "cell_type": "code",
   "execution_count": 59,
   "metadata": {},
   "outputs": [
    {
     "name": "stdout",
     "output_type": "stream",
     "text": [
      "Best Parameters: {'metric': 'manhattan', 'n_neighbors': 20}\n",
      "Training Accuracy: 89.51\n",
      "Test Accuracy: 78.26\n"
     ]
    }
   ],
   "source": [
    "#Affichage des paramètres sélectionnés et affichage taux de bonnes prédictions \n",
    "#du modèle sur l'ensemble d'entraînement et l'ensemble de test pour l'algorythme des K-plus proches voisins\n",
    "final_clf = gridcvs['KNN']\n",
    "final_clf.fit(X_train, y_train)\n",
    "\n",
    "print(f'Best Parameters: {final_clf.best_params_}')\n",
    "\n",
    "train_acc = accuracy_score(y_true=y_train, y_pred=final_clf.predict(X_train))\n",
    "test_acc = accuracy_score(y_true=y_test, y_pred=final_clf.predict(X_test))\n",
    "\n",
    "print(f'Training Accuracy: {100*train_acc:.2f}')\n",
    "print(f'Test Accuracy: {100*test_acc:.2f}')"
   ]
  },
  {
   "cell_type": "markdown",
   "metadata": {},
   "source": [
    "Les résultats précédents nous montre que l'algorithme qui possède le meilleur score de sortie avec une variance la plus faible est associée à l'algorithme des k-plus proches voisins. On choisit donc par la suite d'afficher les hyperparamètres les plus optimisés. Il faut alors choisir manhattan pour la métric et 20 pour le nombre de voisins regroupés. On remarquera que l'on a légèrement réduit l'overfitting également grâce à une augmentation du score test. Le machine learning permet alors de savoir dans notre cas avec une précision de 78% si un patient à une maladie cardiaque à partir des données médicales présentes grâce à l'algorithme des K-plus proches voisins."
   ]
  },
  {
   "cell_type": "markdown",
   "metadata": {},
   "source": [
    "## Conclusion"
   ]
  },
  {
   "cell_type": "markdown",
   "metadata": {},
   "source": [
    "La data-analyse permet de nos jours de prédire certains comportements ou catégoriser des indivius. Dans notre cas, en faisant une analyse graphique des données des patients ainsi qu'une étude de machine learning nous avons pu prédire si un patient était malade ou non. Les algorythmes utilisés ont été testés et c'est l'algorythme des k-plus proches voisins qui permet d'obtenir les meilleurs résultats. On pourra donc savoir si un individu est malade ou non à partir de cette méthode de classification avec supervision. Ce genre d'étude permet alors de voir d'un autre point de vue le monde médical où l'on va essayer de prédire si un patient est malade ou non en fonction de critères. A l'avenir, ce type d'étude n'a pas pour but de remplacer les diagnostics médicaux traditionnels mais de découvrir l'importance et l'influence d'un critère physique sur une maladie d'un point de vue statistique. En l'occurence, cela pourrait aider lors de l'apparition d'une nouvelle maladie ou nouveau virus. La data-analyse est donc un complément d'analyse qui va s'installer non-seulement en médecine mais aussi dans tous les autres secteurs afin d'effectuer ses propres prédictions."
   ]
  }
 ],
 "metadata": {
  "kernelspec": {
   "display_name": "Python 3",
   "language": "python",
   "name": "python3"
  },
  "language_info": {
   "codemirror_mode": {
    "name": "ipython",
    "version": 3
   },
   "file_extension": ".py",
   "mimetype": "text/x-python",
   "name": "python",
   "nbconvert_exporter": "python",
   "pygments_lexer": "ipython3",
   "version": "3.8.3"
  }
 },
 "nbformat": 4,
 "nbformat_minor": 4
}
